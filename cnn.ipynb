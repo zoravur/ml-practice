{
 "cells": [
  {
   "cell_type": "markdown",
   "id": "945aad89-1a13-42eb-a71a-b321f777c350",
   "metadata": {},
   "source": [
    "# ConvNet (CIFAR-10)\n",
    "\n",
    "here’s a cleaner statement that keeps the minimization objective abstract but unpacks the *inside* of $f_\\theta$ layer‑by‑layer and pins down what “convolution” and “pool” actually do.\n",
    "\n",
    "---\n",
    "\n",
    "## 0. objective (unchanged)\n",
    "\n",
    "$$\n",
    "\\theta^{\\star}\n",
    "=\\arg\\min_{\\theta}\\;\n",
    "\\frac1N\\sum_{i=1}^{N}\\;\n",
    "\\ell\\bigl(f_\\theta(x_i),\\,y_i\\bigr)\\;+\\;\\lambda\\lVert\\theta\\rVert_2^{2}.\n",
    "$$\n",
    "\n",
    "everything interesting hides in $f_\\theta$.\n",
    "\n",
    "---\n",
    "\n",
    "## 1. canonical cnn recursion\n",
    "\n",
    "set $h_0=x$. for each **conv block** $1\\le\\ell\\le L_c$:\n",
    "\n",
    "$$\n",
    "\\begin{aligned}\n",
    "z_\\ell &= \\text{Conv}\\bigl(h_{\\ell-1};\\,W_\\ell\\bigr)+b_\\ell,\\\\\n",
    "a_\\ell &= \\sigma\\!\\bigl(z_\\ell\\bigr),\\\\\n",
    "h_\\ell &= \n",
    "\\begin{cases}\n",
    "\\text{Pool}\\bigl(a_\\ell\\bigr) & \\text{if block }\\ell\\text{ has pooling},\\\\\n",
    "a_\\ell & \\text{otherwise}.\n",
    "\\end{cases}\n",
    "\\end{aligned}\n",
    "$$\n",
    "\n",
    "flatten $h_{L_c}$ to a vector and push it through fully connected layers the same way:\n",
    "\n",
    "$$\n",
    "h_{\\ell+1}= \\sigma\\!\\bigl(W_{\\ell+1}h_\\ell+b_{\\ell+1}\\bigr),\n",
    "\\qquad L_c\\le\\ell<L_c+L_f.\n",
    "$$\n",
    "\n",
    "after the last affine layer you may drop the final $\\sigma$ and apply soft‑max externally—whatever your loss expects.\n",
    "\n",
    "all parameters $\\theta=\\{W_\\ell,b_\\ell\\}_{\\ell=1}^{L_c+L_f}$.\n",
    "\n",
    "---\n",
    "\n",
    "## 2. convolution spelled out\n",
    "\n",
    "input tensor\n",
    "$h_{\\ell-1}\\in\\mathbb R^{H\\times W\\times C_\\text{in}}$.\n",
    "\n",
    "kernel tensor\n",
    "$W_\\ell\\in\\mathbb R^{k_h\\times k_w\\times C_\\text{in}\\times C_\\text{out}}$.\n",
    "\n",
    "for zero‑padding $p$ and stride $s$,\n",
    "\n",
    "$$\n",
    "\\boxed{\n",
    "\\;z_\\ell(i,j,c)=\n",
    "\\!\\!\\sum_{u=0}^{k_h-1}\\sum_{v=0}^{k_w-1}\\sum_{d=0}^{C_\\text{in}-1}\n",
    "W_\\ell(u,v,d,c)\\;\n",
    "h_{\\ell-1}(i\\,s+u-p,\\,j\\,s+v-p,\\,d)\n",
    "\\;} \n",
    "$$\n",
    "\n",
    "(the operation used in deep‑learning libraries is technically cross‑correlation; if you flip the kernel spatially you get the mathematician’s convolution) ([arXiv][1])\n",
    "\n",
    "output spatial size:\n",
    "\n",
    "$H'=\\bigl\\lfloor\\frac{H+2p-k_h}{s}\\bigr\\rfloor+1,\\;\\;\n",
    "W'=\\bigl\\lfloor\\frac{W+2p-k_w}{s}\\bigr\\rfloor+1.$\n",
    "\n",
    "---\n",
    "\n",
    "## 3. pooling variants\n",
    "\n",
    "for a channel‑wise window of size $p_h\\times p_w$ and stride $s_p$:\n",
    "\n",
    "* **max‑pool**\n",
    "\n",
    "  $$\n",
    "  \\text{Pool}_\\text{max}(a)(i,j,c)=\n",
    "  \\max_{\\substack{0\\le u<p_h\\\\0\\le v<p_w}}\n",
    "  a\\bigl(i\\,s_p+u,\\;j\\,s_p+v,\\;c\\bigr)\n",
    "  $$\n",
    "\n",
    "* **average‑pool**\n",
    "\n",
    "  replace the max with a mean.\n",
    "\n",
    "window shape and stride rule the down‑sampling; nothing exotic is happening.\n",
    "\n",
    "---\n",
    "\n",
    "## 4. why this matters\n",
    "\n",
    "* the sparse, weight‑sharing structure of the Conv formula bakes **translation equivariance** and keeps parameter count $O(k_hk_wC_\\text{in}C_\\text{out})$ instead of $O(HWC_\\text{in}C_\\text{out})$.\n",
    "* pooling trades spatial resolution for a larger effective receptive field and a bit of invariance.\n",
    "* the recursion above is the skeleton you back‑prop through; everything else (batch‑norm, residual skip, dilations, etc.) just adds detours inside the $g_\\ell$."
   ]
  },
  {
   "cell_type": "code",
   "execution_count": null,
   "id": "c673b93f-7610-4312-a98d-d927a58fa600",
   "metadata": {},
   "outputs": [],
   "source": []
  },
  {
   "cell_type": "code",
   "execution_count": 59,
   "id": "2b65cc8b-d93c-49af-b02d-3b0ede728dd1",
   "metadata": {},
   "outputs": [],
   "source": [
    "# Imports\n",
    "import jax\n",
    "import jax.numpy as jnp\n",
    "\n",
    "# From https://www.cs.toronto.edu/~kriz/cifar.html\n",
    "def unpickle(file):\n",
    "    import pickle\n",
    "    with open(file, 'rb') as fo:\n",
    "        d = pickle.load(fo, encoding='bytes')\n",
    "    return d"
   ]
  },
  {
   "cell_type": "code",
   "execution_count": 60,
   "id": "94fbd2d5-1cf8-4a07-bcc5-b1b2ec719a39",
   "metadata": {},
   "outputs": [
    {
     "data": {
      "text/plain": [
       "dict_keys([b'batch_label', b'labels', b'data', b'filenames'])"
      ]
     },
     "execution_count": 60,
     "metadata": {},
     "output_type": "execute_result"
    }
   ],
   "source": [
    "data = unpickle('data/cifar-10-batches-py/data_batch_1')\n",
    "data.keys()\n"
   ]
  },
  {
   "cell_type": "code",
   "execution_count": 61,
   "id": "9e7b9962-b824-4333-8125-dd97cc7cac97",
   "metadata": {},
   "outputs": [
    {
     "name": "stdout",
     "output_type": "stream",
     "text": [
      "[<class 'bytes'>, <class 'list'>, <class 'numpy.ndarray'>, <class 'list'>]\n"
     ]
    }
   ],
   "source": [
    "# let's get a sense for what everything is.\n",
    "print(list(type(data[key]) for key in data.keys()))"
   ]
  },
  {
   "cell_type": "code",
   "execution_count": 62,
   "id": "e4e34011-4f97-48f6-8ff9-ab4df5e8d59f",
   "metadata": {},
   "outputs": [
    {
     "data": {
      "text/plain": [
       "b'training batch 1 of 5'"
      ]
     },
     "execution_count": 62,
     "metadata": {},
     "output_type": "execute_result"
    }
   ],
   "source": [
    "data[b'batch_label'] # can be ignored"
   ]
  },
  {
   "cell_type": "code",
   "execution_count": 63,
   "id": "ab6348a0-977a-4416-8630-1687a8c32127",
   "metadata": {},
   "outputs": [
    {
     "data": {
      "text/plain": [
       "10000"
      ]
     },
     "execution_count": 63,
     "metadata": {},
     "output_type": "execute_result"
    }
   ],
   "source": [
    "len(data[b'labels'])"
   ]
  },
  {
   "cell_type": "code",
   "execution_count": 64,
   "id": "56566fe1-c9e4-4c74-9a60-7c348a106aa5",
   "metadata": {},
   "outputs": [
    {
     "data": {
      "text/plain": [
       "(10000, 3072)"
      ]
     },
     "execution_count": 64,
     "metadata": {},
     "output_type": "execute_result"
    }
   ],
   "source": [
    "data[b'data'].shape"
   ]
  },
  {
   "cell_type": "code",
   "execution_count": 65,
   "id": "7b1f17a4-daf2-4039-a29f-62daf5299335",
   "metadata": {},
   "outputs": [
    {
     "data": {
      "text/plain": [
       "Array(32., dtype=float32, weak_type=True)"
      ]
     },
     "execution_count": 65,
     "metadata": {},
     "output_type": "execute_result"
    }
   ],
   "source": [
    "jnp.sqrt(3072/3) # 32x32, 3 channels"
   ]
  },
  {
   "cell_type": "code",
   "execution_count": 66,
   "id": "f08fcd2c-80de-44af-8fd8-cd8665df10a3",
   "metadata": {},
   "outputs": [
    {
     "data": {
      "text/plain": [
       "[b'leptodactylus_pentadactylus_s_000004.png',\n",
       " b'camion_s_000148.png',\n",
       " b'tipper_truck_s_001250.png',\n",
       " b'american_elk_s_001521.png',\n",
       " b'station_wagon_s_000293.png',\n",
       " b'coupe_s_001735.png',\n",
       " b'cassowary_s_001300.png',\n",
       " b'cow_pony_s_001168.png',\n",
       " b'sea_boat_s_001584.png',\n",
       " b'tabby_s_001355.png']"
      ]
     },
     "execution_count": 66,
     "metadata": {},
     "output_type": "execute_result"
    }
   ],
   "source": [
    "data[b'filenames'][:10] # maybe we can cheat with some NLP"
   ]
  },
  {
   "cell_type": "code",
   "execution_count": 67,
   "id": "49089793-8332-4860-ae72-23bc107e9ce7",
   "metadata": {},
   "outputs": [
    {
     "data": {
      "text/plain": [
       "[(6, b'leptodactylus_pentadactylus_s_000004.png'),\n",
       " (9, b'camion_s_000148.png'),\n",
       " (9, b'tipper_truck_s_001250.png'),\n",
       " (4, b'american_elk_s_001521.png'),\n",
       " (1, b'station_wagon_s_000293.png'),\n",
       " (1, b'coupe_s_001735.png'),\n",
       " (2, b'cassowary_s_001300.png'),\n",
       " (7, b'cow_pony_s_001168.png'),\n",
       " (8, b'sea_boat_s_001584.png'),\n",
       " (3, b'tabby_s_001355.png')]"
      ]
     },
     "execution_count": 67,
     "metadata": {},
     "output_type": "execute_result"
    }
   ],
   "source": [
    "list(zip(data[b'labels'][:10], data[b'filenames'][:10])) # looks like the classes are 0-9, in the order described in the info document."
   ]
  },
  {
   "cell_type": "code",
   "execution_count": 80,
   "id": "415dbd11-149d-4295-9a59-df07c88bb680",
   "metadata": {},
   "outputs": [
    {
     "data": {
      "text/plain": [
       "((100000, 32, 32, 3), (50000,))"
      ]
     },
     "execution_count": 80,
     "metadata": {},
     "output_type": "execute_result"
    }
   ],
   "source": [
    "def process_single_batch(batch):\n",
    "    X, y = jnp.array(batch[b'data']), jnp.array(batch[b'labels'])\n",
    "    X = jnp.reshape(X, (-1, 3, 32, 32))\n",
    "    X = jnp.transpose(X, [0, 2, 3, 1])\n",
    "    return X, y\n",
    "\n",
    "def load_and_combine_full_training_set():\n",
    "    Xs, ys = [], []\n",
    "    for i in range(1, 6):\n",
    "        X, y = process_single_batch(unpickle(f'data/cifar-10-batches-py/data_batch_{i}'))\n",
    "        Xs.append(X)\n",
    "        ys.append(y)\n",
    "    X = jnp.concatenate(Xs)\n",
    "    y = jnp.concatenate(ys)\n",
    "    return X, y\n",
    "\n",
    "def augment_data(X_train):\n",
    "    # horizontal_flip\n",
    "    X_train = jnp.concatenate([X_train, X_train[:, :, :, ::-1]])\n",
    "    return X_train\n",
    "\n",
    "X_train, y_train = load_and_combine_full_training_set()\n",
    "X_train = augment_data(X_train)\n",
    "X_train.shape, y_train.shape\n",
    "\n"
   ]
  },
  {
   "cell_type": "code",
   "execution_count": 81,
   "id": "4ea07ed9-2b0d-4ba8-8d03-11251d06a606",
   "metadata": {},
   "outputs": [
    {
     "data": {
      "image/png": "[encoded data removed]",
      "text/plain": [
       "<Figure size 1500x300 with 5 Axes>"
      ]
     },
     "metadata": {},
     "output_type": "display_data"
    }
   ],
   "source": [
    "import matplotlib.pyplot as plt\n",
    "import numpy as np\n",
    "\n",
    "# assuming X_train is jax.numpy array of shape (N, 32, 32, 3)\n",
    "# convert first 5 images to numpy for plotting\n",
    "images = np.array(X_train[:5])\n",
    "\n",
    "# plot\n",
    "fig, axes = plt.subplots(1, 5, figsize=(15, 3))\n",
    "for i, ax in enumerate(axes):\n",
    "    ax.imshow(images[i])\n",
    "    ax.axis('off')\n",
    "plt.show()\n"
   ]
  },
  {
   "cell_type": "code",
   "execution_count": 82,
   "id": "6d2b9460-ff8d-4688-961e-ad12d7564400",
   "metadata": {},
   "outputs": [
    {
     "data": {
      "text/plain": [
       "((781, 128, 32, 32, 3), (781, 128))"
      ]
     },
     "execution_count": 82,
     "metadata": {},
     "output_type": "execute_result"
    }
   ],
   "source": [
    "def get_epoch_batches(X, y, key, batch_size):\n",
    "    num = (X.shape[0] // batch_size) * batch_size\n",
    "    perm = jax.random.permutation(key, X.shape[0])[:num]\n",
    "    X, y = X[perm], y[perm]\n",
    "    X = X.reshape(-1, batch_size, *X.shape[1:])\n",
    "    y = y.reshape(-1, batch_size, *y.shape[1:])\n",
    "    return X, y\n",
    "\n",
    "def expand_batch(X):\n",
    "    X /= 255\n",
    "    return X\n",
    "\n",
    "bX, by = get_epoch_batches(X_train, y_train, jax.random.key(0), 128)\n",
    "bX.shape, by.shape"
   ]
  },
  {
   "cell_type": "code",
   "execution_count": 96,
   "id": "644aaefd-d3f8-4d0e-9e78-123c57198eb9",
   "metadata": {},
   "outputs": [],
   "source": [
    "# Model construction\n",
    "\n",
    "# Recommended model by chatgpt:\n",
    "# Conv2D(32, kernel_size=3, activation='relu')\n",
    "# Conv2D(64, kernel_size=3, activation='relu')\n",
    "# MaxPool2D(pool_size=2)\n",
    "# Flatten()\n",
    "# Dense(128, activation='relu')\n",
    "# Dense(10, activation='softmax')\n",
    "\n",
    "# Aim to get >70%.\n",
    "from jax import lax\n",
    "\n",
    "def init_conv2d(key, size, in_channels, out_channels):\n",
    "    k1, k2 = jax.random.split(key)\n",
    "    std = jnp.sqrt(2 / (size*size))\n",
    "    W = std*jax.random.normal(k1, (size, size, in_channels, out_channels)) # HWIO\n",
    "    b = jnp.zeros((out_channels,)) # one per out_channel\n",
    "    return W, b\n",
    "\n",
    "def init_dense(key, in_size, out_size):\n",
    "    k1, k2 = jax.random.split(key)\n",
    "    std = jnp.sqrt(2 / in_size)\n",
    "    W = std * jax.random.normal(k1, (in_size, out_size))\n",
    "    b = jnp.zeros((out_size,))\n",
    "    return W, b\n",
    "\n",
    "def init_params(key):\n",
    "    k1, k2, k3, k4, k5, k6, k7, k8, k9 = jax.random.split(key, 9)\n",
    "    c1 = init_conv2d(k1, 3, 3, 32) # 30x30\n",
    "    c2 = init_conv2d(k2, 3, 32, 64) # 28x28\n",
    "    # maxpool\n",
    "    c3 = init_conv2d(k3, 3, 64, 128) # 12x12\n",
    "    c4 = init_conv2d(k4, 3, 128, 256) # 10x10\n",
    "    # maxpool\n",
    "    c5 = init_conv2d(k5, 3, 256, 512) # 3x3\n",
    "    c6 = init_conv2d(k6, 3, 512, 1024) # 1x1\n",
    "\n",
    "    d1 = init_dense(k7, 1024, 512)\n",
    "    d2 = init_dense(k8, 512, 128)\n",
    "    d3 = init_dense(k9, 128, 10)\n",
    "\n",
    "    # d1 = jnp.random.normal(k3, \n",
    "    return [c1, c2, c3, c4, c5, c6, d1, d2, d3]\n",
    "\n",
    "def dropout(x, key, rate=0.001):\n",
    "    keep_prob = 1.0 - rate\n",
    "    mask = jax.random.bernoulli(key, p=keep_prob, shape=x.shape)\n",
    "    return jnp.where(mask, x / keep_prob, 0.0)\n",
    "\n",
    "from functools import partial\n",
    "\n",
    "@partial(jax.jit, static_argnames=['use_dropout'])\n",
    "def fwd(params, X, key=None, use_dropout=False):\n",
    "    if use_dropout:\n",
    "        keys = jax.random.split(key, 4)\n",
    "\n",
    "    X = expand_batch(X)\n",
    "\n",
    "    c1, c2, c3, c4, c5, c6, d1, d2, d3 = params\n",
    "\n",
    "    X = lax.conv(jnp.transpose(X, [0,3,1,2]),\n",
    "                 jnp.transpose(c1[0], [3,2,0,1]),\n",
    "                 (1, 1), 'SAME') + c1[1][:, None, None]\n",
    "    X = jax.nn.relu(X)\n",
    "    # if use_dropout:\n",
    "    #     X = dropout(X, keys[0])\n",
    "    X = lax.reduce_window(X, -jnp.inf, lax.max, (1, 1, 2, 2), (1, 1, 2, 2))\n",
    "\n",
    "    X = lax.conv(X, jnp.transpose(c2[0], [3,2,0,1]),\n",
    "                 (1, 1), 'SAME') + c2[1][:, None, None]\n",
    "    X = jax.nn.relu(X)\n",
    "    # if use_dropout:\n",
    "    #     X = dropout(X, keys[1])\n",
    "    X = lax.reduce_window(X, -jnp.inf, lax.max, (1, 1, 2, 2), (1, 1, 2, 2))\n",
    "\n",
    "\n",
    "    X = lax.conv(X, jnp.transpose(c3[0], [3,2,0,1]), (1, 1), 'SAME') + c3[1][:, None, None]\n",
    "    X = jax.nn.relu(X)\n",
    "    X = lax.reduce_window(X, -jnp.inf, lax.max, (1, 1, 2, 2), (1, 1, 2, 2))\n",
    "    X = lax.conv(X, jnp.transpose(c4[0], [3,2,0,1]), (1, 1), 'SAME') + c4[1][:, None, None]\n",
    "    X = jax.nn.relu(X)\n",
    "    X = lax.reduce_window(X, -jnp.inf, lax.max, (1, 1, 2, 2), (1, 1, 2, 2))\n",
    "\n",
    "    X = lax.conv(X, jnp.transpose(c5[0], [3,2,0,1]), (1, 1), 'SAME') + c5[1][:, None, None]\n",
    "    X = jax.nn.relu(X)\n",
    "    X = lax.reduce_window(X, -jnp.inf, lax.max, (1, 1, 2, 2), (1, 1, 2, 2))\n",
    "\n",
    "    X = lax.conv(X, jnp.transpose(c6[0], [3,2,0,1]), (1, 1), 'SAME') + c6[1][:, None, None]\n",
    "    X = jax.nn.relu(X)\n",
    "    \n",
    "    X = X.reshape(X.shape[0], -1)\n",
    "\n",
    "    X = jax.nn.relu(X @ d1[0] + d1[1])\n",
    "    if use_dropout:\n",
    "        X = dropout(X, keys[2])\n",
    "    X = jax.nn.relu(X @ d2[0] + d2[1])\n",
    "    if use_dropout:\n",
    "        X = dropout(X, keys[3])\n",
    "\n",
    "    return X @ d3[0] + d3[1]\n",
    "\n",
    "\n",
    "\n"
   ]
  },
  {
   "cell_type": "code",
   "execution_count": 97,
   "id": "545de0e7-af90-40ca-9027-f59d7c0efc72",
   "metadata": {},
   "outputs": [],
   "source": [
    "\n",
    "def loss(params, X, y, key=None, use_dropout=False):\n",
    "    logits = fwd(params, X, key, use_dropout)\n",
    "    # log_probs = jax.nn.log_softmax(logits)\n",
    "    return -jnp.mean(jnp.sum(jax.nn.one_hot(y, 10)*jax.nn.log_softmax(logits), axis=1))\n",
    "\n",
    "    \n",
    "grad_loss = jax.jit(jax.grad(loss), static_argnames=\"use_dropout\")"
   ]
  },
  {
   "cell_type": "code",
   "execution_count": 98,
   "id": "5a348ac5-9ee6-441a-aa20-1f5384c7cb93",
   "metadata": {},
   "outputs": [
    {
     "data": {
      "text/plain": [
       "Array(205773.48, dtype=float32)"
      ]
     },
     "execution_count": 98,
     "metadata": {},
     "output_type": "execute_result"
    }
   ],
   "source": [
    "# fwd(init_params(jax.random.key(0)), expand_batch(get_epoch_batches(X_train, y_train, jax.random.key(0), 128)[0][0]))\n",
    "\n",
    "bX, by = get_epoch_batches(X_train, y_train, jax.random.key(0), 128)\n",
    "loss(init_params(jax.random.key(0)), bX[0], by[0])"
   ]
  },
  {
   "cell_type": "code",
   "execution_count": 99,
   "id": "4927a94a-759f-4d3c-ba18-ba594899c846",
   "metadata": {},
   "outputs": [],
   "source": [
    "def init_sgd(params):\n",
    "    velocity = jax.tree_util.tree_map(jnp.zeros_like, params)\n",
    "    return params, velocity\n",
    "\n",
    "@jax.jit\n",
    "def sgd_update(params, velocity, grads, lr=5e-5, momentum=0.9):\n",
    "    velocity = jax.tree.map(lambda v, g: momentum * v - lr * g, velocity, grads)\n",
    "    params = jax.tree.map(lambda p, v: p + v, params, velocity)\n",
    "    return params, velocity\n",
    "\n",
    "@jax.jit\n",
    "def train_sgd(X, y, key, init_params, batch_size=64, num_epochs=100):\n",
    "    keys = jax.random.split(key, num_epochs)\n",
    "    params, velocity = init_sgd(init_params)\n",
    "\n",
    "    def epoch_step(i, opt_state):\n",
    "        params, velocity = opt_state\n",
    "        k1, k2 = jax.random.split(keys[i])\n",
    "        bX, by = get_epoch_batches(X, y, k1, batch_size)\n",
    "        batch_keys = jax.random.split(k2, len(by))\n",
    "\n",
    "        def batch_step(opt_state, batch):\n",
    "            p, v = opt_state\n",
    "            Xb, yb, batch_key = batch\n",
    "            _, stats = compute_minibatch_loss(p, batch)\n",
    "            grads = grad_loss(p, Xb, yb, batch_key, True)\n",
    "            p, v = sgd_update(p, v, grads)\n",
    "            return (p, v), stats\n",
    "\n",
    "        (params_, velocity_), (accuracies, losses) = jax.lax.scan(batch_step, (params, velocity), (bX, by, batch_keys))\n",
    "\n",
    "        epoch_loss = jnp.mean(losses)\n",
    "        epoch_acc = jnp.mean(accuracies)\n",
    "        jax.debug.print(\"epoch {i}, loss: {l}, accuracy: {a}\", i=i, l=epoch_loss, a=epoch_acc)\n",
    "        return params_, velocity_\n",
    "\n",
    "    params, velocity = jax.lax.fori_loop(0, num_epochs, epoch_step, (params, velocity))\n",
    "    return params"
   ]
  },
  {
   "cell_type": "code",
   "execution_count": 100,
   "id": "8682d259-e4aa-41c6-bef7-5fb777016808",
   "metadata": {},
   "outputs": [
    {
     "name": "stdout",
     "output_type": "stream",
     "text": [
      "epoch 0, loss: 14714.3642578125, accuracy: 0.4516945481300354\n",
      "epoch 1, loss: 2769.8291015625, accuracy: 0.4894866347312927\n",
      "epoch 2, loss: 6.560249328613281, accuracy: 0.5480954051017761\n",
      "epoch 3, loss: 2.8956284523010254, accuracy: 0.5496358871459961\n",
      "epoch 4, loss: 2.2454094886779785, accuracy: 0.5499460101127625\n",
      "epoch 5, loss: 2.0828137397766113, accuracy: 0.5499659776687622\n",
      "epoch 6, loss: 2.072011947631836, accuracy: 0.5500159859657288\n",
      "epoch 7, loss: 2.0401575565338135, accuracy: 0.5499259829521179\n",
      "epoch 8, loss: 1.9124237298965454, accuracy: 0.549996018409729\n",
      "epoch 9, loss: 1.970601201057434, accuracy: 0.549996018409729\n",
      "epoch 10, loss: 1.8976372480392456, accuracy: 0.5499559640884399\n",
      "epoch 11, loss: 1.8305498361587524, accuracy: 0.549996018409729\n",
      "epoch 12, loss: 1.7708632946014404, accuracy: 0.5499860048294067\n",
      "epoch 13, loss: 1.7478082180023193, accuracy: 0.5499559640884399\n",
      "epoch 14, loss: 1.7286807298660278, accuracy: 0.549996018409729\n",
      "epoch 15, loss: 1.7135047912597656, accuracy: 0.5499259829521179\n",
      "epoch 16, loss: 1.7014635801315308, accuracy: 0.550025999546051\n",
      "epoch 17, loss: 1.692706823348999, accuracy: 0.5500159859657288\n",
      "epoch 18, loss: 1.7352334260940552, accuracy: 0.549996018409729\n",
      "epoch 19, loss: 1.682513952255249, accuracy: 0.5499659776687622\n",
      "epoch 20, loss: 1.679915428161621, accuracy: 0.5499860048294067\n",
      "epoch 21, loss: 1.6783145666122437, accuracy: 0.5500460267066956\n",
      "epoch 22, loss: 1.6776522397994995, accuracy: 0.549996018409729\n",
      "epoch 23, loss: 1.677171230316162, accuracy: 0.5500360131263733\n",
      "epoch 24, loss: 1.677121877670288, accuracy: 0.5499759912490845\n",
      "epoch 25, loss: 1.6770330667495728, accuracy: 0.5499759912490845\n",
      "epoch 26, loss: 1.676896333694458, accuracy: 0.5500159859657288\n",
      "epoch 27, loss: 1.6769243478775024, accuracy: 0.549996018409729\n",
      "epoch 28, loss: 1.6768907308578491, accuracy: 0.5500060319900513\n",
      "epoch 29, loss: 1.676910400390625, accuracy: 0.549996018409729\n",
      "epoch 30, loss: 1.6769325733184814, accuracy: 0.5499860048294067\n",
      "epoch 31, loss: 1.677051067352295, accuracy: 0.5499359965324402\n",
      "epoch 32, loss: 1.6769551038742065, accuracy: 0.5499759912490845\n",
      "epoch 33, loss: 1.676954746246338, accuracy: 0.5499759912490845\n",
      "epoch 34, loss: 1.6768113374710083, accuracy: 0.5500360131263733\n",
      "epoch 35, loss: 1.677003264427185, accuracy: 0.5499559640884399\n",
      "epoch 36, loss: 1.6770023107528687, accuracy: 0.5499559640884399\n",
      "epoch 37, loss: 1.6769546270370483, accuracy: 0.5499759912490845\n",
      "epoch 38, loss: 1.6769551038742065, accuracy: 0.5499759912490845\n",
      "epoch 39, loss: 1.6769068241119385, accuracy: 0.549996018409729\n",
      "epoch 40, loss: 1.6769073009490967, accuracy: 0.549996018409729\n",
      "epoch 41, loss: 1.6767632961273193, accuracy: 0.5500560402870178\n",
      "epoch 42, loss: 1.676906943321228, accuracy: 0.549996018409729\n",
      "epoch 43, loss: 1.6768347024917603, accuracy: 0.550025999546051\n",
      "epoch 44, loss: 1.6769304275512695, accuracy: 0.5499860048294067\n",
      "epoch 45, loss: 1.6768349409103394, accuracy: 0.550025999546051\n",
      "epoch 46, loss: 1.6768829822540283, accuracy: 0.5500060319900513\n",
      "epoch 47, loss: 1.6768825054168701, accuracy: 0.5500060319900513\n",
      "epoch 48, loss: 1.6768828630447388, accuracy: 0.5500060319900513\n",
      "epoch 49, loss: 1.6770269870758057, accuracy: 0.5499460101127625\n",
      "epoch 50, loss: 1.6768349409103394, accuracy: 0.550025999546051\n",
      "epoch 51, loss: 1.6767868995666504, accuracy: 0.5500460267066956\n",
      "epoch 52, loss: 1.6769787073135376, accuracy: 0.5499659776687622\n",
      "epoch 53, loss: 1.6768825054168701, accuracy: 0.5500060319900513\n",
      "epoch 54, loss: 1.676810622215271, accuracy: 0.5500360131263733\n",
      "epoch 55, loss: 1.676978588104248, accuracy: 0.5499659776687622\n",
      "epoch 56, loss: 1.6768349409103394, accuracy: 0.550025999546051\n",
      "epoch 57, loss: 1.676954746246338, accuracy: 0.5499759912490845\n",
      "epoch 58, loss: 1.676978588104248, accuracy: 0.5499659776687622\n",
      "epoch 59, loss: 1.6769310235977173, accuracy: 0.5499860048294067\n",
      "epoch 60, loss: 1.676954746246338, accuracy: 0.5499759912490845\n",
      "epoch 61, loss: 1.676787257194519, accuracy: 0.5500460267066956\n",
      "epoch 62, loss: 1.6768585443496704, accuracy: 0.5500159859657288\n",
      "epoch 63, loss: 1.6770025491714478, accuracy: 0.5499559640884399\n",
      "epoch 64, loss: 1.6768347024917603, accuracy: 0.550025999546051\n",
      "epoch 65, loss: 1.6768838167190552, accuracy: 0.5500060319900513\n",
      "epoch 66, loss: 1.6770273447036743, accuracy: 0.5499460101127625\n",
      "epoch 67, loss: 1.676906943321228, accuracy: 0.549996018409729\n",
      "epoch 68, loss: 1.6768113374710083, accuracy: 0.5500360131263733\n",
      "epoch 69, loss: 1.676954984664917, accuracy: 0.5499759912490845\n",
      "epoch 70, loss: 1.6769306659698486, accuracy: 0.5499860048294067\n",
      "epoch 71, loss: 1.6769068241119385, accuracy: 0.549996018409729\n",
      "epoch 72, loss: 1.6768354177474976, accuracy: 0.550025999546051\n",
      "epoch 73, loss: 1.6770027875900269, accuracy: 0.5499559640884399\n",
      "epoch 74, loss: 1.676978588104248, accuracy: 0.5499659776687622\n",
      "epoch 75, loss: 1.676835060119629, accuracy: 0.550025999546051\n",
      "epoch 76, loss: 1.676954746246338, accuracy: 0.5499759912490845\n",
      "epoch 77, loss: 1.676835060119629, accuracy: 0.550025999546051\n",
      "epoch 78, loss: 1.6769306659698486, accuracy: 0.5499860048294067\n",
      "epoch 79, loss: 1.6768829822540283, accuracy: 0.5500060319900513\n",
      "epoch 80, loss: 1.6769070625305176, accuracy: 0.549996018409729\n",
      "epoch 81, loss: 1.6768347024917603, accuracy: 0.550025999546051\n",
      "epoch 82, loss: 1.6768591403961182, accuracy: 0.5500159859657288\n",
      "epoch 83, loss: 1.6768593788146973, accuracy: 0.5500159859657288\n",
      "epoch 84, loss: 1.6768593788146973, accuracy: 0.5500159859657288\n",
      "epoch 85, loss: 1.6769068241119385, accuracy: 0.549996018409729\n",
      "epoch 86, loss: 1.6768828630447388, accuracy: 0.5500060319900513\n",
      "epoch 87, loss: 1.6769788265228271, accuracy: 0.5499659776687622\n",
      "epoch 88, loss: 1.6768347024917603, accuracy: 0.550025999546051\n",
      "epoch 89, loss: 1.6767634153366089, accuracy: 0.5500560402870178\n",
      "epoch 90, loss: 1.6769061088562012, accuracy: 0.549996018409729\n",
      "epoch 91, loss: 1.676955223083496, accuracy: 0.5499759912490845\n",
      "epoch 92, loss: 1.6769551038742065, accuracy: 0.5499759912490845\n",
      "epoch 93, loss: 1.676835060119629, accuracy: 0.550025999546051\n",
      "epoch 94, loss: 1.6770023107528687, accuracy: 0.5499559640884399\n",
      "epoch 95, loss: 1.6767865419387817, accuracy: 0.5500460267066956\n",
      "epoch 96, loss: 1.6768347024917603, accuracy: 0.550025999546051\n",
      "epoch 97, loss: 1.6769788265228271, accuracy: 0.5499659776687622\n",
      "epoch 98, loss: 1.676810622215271, accuracy: 0.5500360131263733\n",
      "epoch 99, loss: 1.6768587827682495, accuracy: 0.5500159859657288\n"
     ]
    }
   ],
   "source": [
    "params = train_adam(X_train, y_train, jax.random.key(0), init_params(jax.random.key(0)))"
   ]
  },
  {
   "cell_type": "code",
   "execution_count": null,
   "id": "b504ea21-ca00-44c3-8ae4-0890c55fe5c2",
   "metadata": {},
   "outputs": [],
   "source": [
    "X_test, y_test = process_single_batch(unpickle(f'data/cifar-10-batches-py/test_batch'))\n",
    "X_test.shape, y_test.shape"
   ]
  },
  {
   "cell_type": "code",
   "execution_count": null,
   "id": "dea27d26-4b21-4cad-97d8-86bb274061e7",
   "metadata": {},
   "outputs": [],
   "source": [
    "def compute_minibatch_loss(params, batch):\n",
    "    Xb, yb = batch\n",
    "    # print(jnp.argmax(fwd(params, Xb), axis=1).shape)\n",
    "    minibatch_accuracy = jnp.mean(yb == jnp.argmax(fwd(params, Xb), axis=1))\n",
    "    print(yb)\n",
    "    print(jnp.argmax(fwd(params, Xb), axis=1))\n",
    "    return params, (minibatch_accuracy, loss(params, Xb, yb))\n",
    "\n",
    "_, (minibatch_accuracy, minibatch_losses) = jax.lax.scan(compute_minibatch_loss, params, get_epoch_batches(X_test, y_test, jax.random.key(0), batch_size = 128))\n",
    "test_loss = jnp.mean(minibatch_losses)\n",
    "test_accuracy = jnp.mean(minibatch_accuracy)\n",
    "test_loss, test_accuracy"
   ]
  },
  {
   "cell_type": "code",
   "execution_count": null,
   "id": "d949aa54-841b-4d8f-ba0f-bfb33a626626",
   "metadata": {},
   "outputs": [],
   "source": [
    "def compute_minibatch_loss(params, batch):\n",
    "    Xb, yb = batch\n",
    "    # print(jnp.argmax(fwd(params, Xb), axis=1).shape)\n",
    "    minibatch_accuracy = jnp.mean(yb == jnp.argmax(fwd(params, Xb), axis=1))\n",
    "    print(yb)\n",
    "    print(jnp.argmax(fwd(params, Xb), axis=1))\n",
    "    print(jnp.bincount(jnp.argmax(fwd(params, Xb), axis=1)))\n",
    "\n",
    "    return None, (minibatch_accuracy, loss(params, Xb, yb))\n",
    "\n",
    "bX, by =  get_epoch_batches(X_test, y_test, jax.random.key(0), batch_size=128)\n",
    "compute_minibatch_loss(params, (bX[0], by[0]))\n",
    "print(fwd(params, bX[0]))\n"
   ]
  },
  {
   "cell_type": "code",
   "execution_count": null,
   "id": "f32d0e94-0b6f-4120-a10d-8e20c3ad32b1",
   "metadata": {},
   "outputs": [],
   "source": [
    "def compute_minibatch_loss(params, batch):\n",
    "    Xb, yb = batch\n",
    "    logits = fwd(params, Xb)\n",
    "    preds = jnp.argmax(logits, axis=1)\n",
    "    acc = jnp.mean(preds == yb)\n",
    "    l = loss(params, Xb, yb)\n",
    "    return params, (acc, l)  # carry is just params (unused)\n",
    "\n",
    "_, (accuracies, losses) = jax.lax.scan(\n",
    "    lambda carry, batch: compute_minibatch_loss(carry, batch),\n",
    "    params,\n",
    "    get_epoch_batches(X_test, y_test, jax.random.key(0), batch_size=128)\n",
    ")\n",
    "\n",
    "test_loss = jnp.mean(losses)\n",
    "test_acc = jnp.mean(accuracies)\n"
   ]
  },
  {
   "cell_type": "code",
   "execution_count": null,
   "id": "43ec41ed-015b-4f7f-9c9b-4caff7d0955f",
   "metadata": {},
   "outputs": [],
   "source": [
    "test_loss, test_acc"
   ]
  },
  {
   "cell_type": "code",
   "execution_count": null,
   "id": "39995c80-9cfd-4473-bf07-62512c9f29b4",
   "metadata": {},
   "outputs": [],
   "source": []
  }
 ],
 "metadata": {
  "kernelspec": {
   "display_name": "Python 3 (ipykernel)",
   "language": "python",
   "name": "python3"
  },
  "language_info": {
   "codemirror_mode": {
    "name": "ipython",
    "version": 3
   },
   "file_extension": ".py",
   "mimetype": "text/x-python",
   "name": "python",
   "nbconvert_exporter": "python",
   "pygments_lexer": "ipython3",
   "version": "3.12.5"
  }
 },
 "nbformat": 4,
 "nbformat_minor": 5
}
