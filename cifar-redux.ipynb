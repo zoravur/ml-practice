{
 "cells": [
  {
   "cell_type": "markdown",
   "id": "f6b7b82e-61d4-4fc5-bb96-1b36b9ce1934",
   "metadata": {},
   "source": [
    "# CIFAR-10 redux"
   ]
  },
  {
   "cell_type": "code",
   "execution_count": 22,
   "id": "8f63674c-9e69-42ac-81d2-0b5ee8f9bc14",
   "metadata": {},
   "outputs": [
    {
     "name": "stdout",
     "output_type": "stream",
     "text": [
      "The autoreload extension is already loaded. To reload it, use:\n",
      "  %reload_ext autoreload\n"
     ]
    }
   ],
   "source": [
    "# Back with a handrolled library to smoke CIFAR-10\n",
    "\n",
    "# Autoimport for debugging purposes\n",
    "%load_ext autoreload\n",
    "%autoreload 2\n",
    "%aimport pax\n",
    "%aimport pax_optimizers\n",
    "import os\n",
    "\n",
    "# 1. don't preallocate all GPU memory upfront\n",
    "# os.environ[\"XLA_PYTHON_CLIENT_PREALLOCATE\"] = \"false\"\n",
    "\n",
    "# 2. limit how much GPU memory JAX/XLA can grab (e.g. 80%)\n",
    "# os.environ[\"XLA_PYTHON_CLIENT_MEM_FRACTION\"] = \"0.8\"\n",
    "\n",
    "# 3. skip cudnn autotuning (avoids the huge temp workspace allocations)\n",
    "# os.environ[\"XLA_FLAGS\"] = \"--xla_gpu_strict_conv_algorithm_picker=false\"\n",
    "\n",
    "# os.environ[\"TF_GPU_ALLOCATOR\"]=\"cuda_malloc_async\"\n",
    "\n",
    "# Imports\n",
    "import jax\n",
    "import jax.numpy as jnp\n",
    "from functools import partial\n",
    "from pax import Dense, Conv2D, BatchNorm, B33, GlobalAvgPool, Flatten\n",
    "from pax_optimizers import Adam\n",
    "\n",
    "# From https://www.cs.toronto.edu/~kriz/cifar.html\n",
    "def unpickle(file):\n",
    "    import pickle\n",
    "    with open(file, 'rb') as fo:\n",
    "        d = pickle.load(fo, encoding='bytes')\n",
    "    return d\n"
   ]
  },
  {
   "cell_type": "code",
   "execution_count": 23,
   "id": "017e4990-aacf-409e-99e5-a1400edaae3f",
   "metadata": {},
   "outputs": [
    {
     "data": {
      "text/plain": [
       "((50000, 3, 32, 32), (50000,))"
      ]
     },
     "execution_count": 23,
     "metadata": {},
     "output_type": "execute_result"
    }
   ],
   "source": [
    "def process_single_batch(batch):\n",
    "    X, y = jnp.array(batch[b'data']), jnp.array(batch[b'labels'])\n",
    "    X = jnp.reshape(X, (-1, 3, 32, 32))\n",
    "    # X = jnp.transpose(X, [0, 2, 3, 1])\n",
    "    return X, y\n",
    "\n",
    "def load_and_combine_full_training_set():\n",
    "    Xs, ys = [], []\n",
    "    for i in range(1, 6):\n",
    "        X, y = process_single_batch(unpickle(f'data/cifar-10-batches-py/data_batch_{i}'))\n",
    "        Xs.append(X)\n",
    "        ys.append(y)\n",
    "    X = jnp.concatenate(Xs)\n",
    "    y = jnp.concatenate(ys)\n",
    "    return X, y\n",
    "\n",
    "def augment_data(X_train):\n",
    "    # horizontal_flip\n",
    "    X_train = jnp.concatenate([X_train, X_train[:, :, :, ::-1]])\n",
    "    return X_train\n",
    "\n",
    "X_train, y_train = load_and_combine_full_training_set()\n",
    "# X_train = augment_data(X_train)\n",
    "X_train.shape, y_train.shape"
   ]
  },
  {
   "cell_type": "code",
   "execution_count": 24,
   "id": "5e8b2be9-d041-405b-b89b-d2a94a4c3729",
   "metadata": {},
   "outputs": [
    {
     "data": {
      "image/png": "[encoded data removed]",
      "text/plain": [
       "<Figure size 1500x300 with 5 Axes>"
      ]
     },
     "metadata": {},
     "output_type": "display_data"
    }
   ],
   "source": [
    "import matplotlib.pyplot as plt\n",
    "import numpy as np\n",
    "\n",
    "# assuming X_train is jax.numpy array of shape (N, 32, 32, 3)\n",
    "# convert first 5 images to numpy for plotting\n",
    "images = np.array(X_train[:5])\n",
    "\n",
    "# plot\n",
    "fig, axes = plt.subplots(1, 5, figsize=(15, 3))\n",
    "for i, ax in enumerate(axes):\n",
    "    ax.imshow(images[i].transpose((1,2,0)))\n",
    "    ax.axis('off')\n",
    "plt.show()"
   ]
  },
  {
   "cell_type": "code",
   "execution_count": 25,
   "id": "7cf304a0-1b18-435e-871c-b774751e28af",
   "metadata": {},
   "outputs": [
    {
     "data": {
      "text/plain": [
       "((3125, 16, 3, 32, 32), (3125, 16))"
      ]
     },
     "execution_count": 25,
     "metadata": {},
     "output_type": "execute_result"
    }
   ],
   "source": [
    "def get_epoch_batches(X, y, key, batch_size):\n",
    "    num = (X.shape[0] // batch_size) * batch_size\n",
    "    perm = jax.random.permutation(key, X.shape[0])[:num]\n",
    "    X, y = X[perm], y[perm]\n",
    "    X = X.reshape(-1, batch_size, *X.shape[1:])\n",
    "    y = y.reshape(-1, batch_size, *y.shape[1:])\n",
    "    return X, y\n",
    "\n",
    "def expand_batch(X):\n",
    "    return X.astype(jnp.float32) / 255.0\n",
    "    # return X\n",
    "\n",
    "bX, by = get_epoch_batches(X_train, y_train, jax.random.key(0), 16)\n",
    "bX.shape, by.shape"
   ]
  },
  {
   "cell_type": "code",
   "execution_count": 26,
   "id": "80fe391a-8ea3-4026-824f-dedb79a61807",
   "metadata": {},
   "outputs": [],
   "source": [
    "def wideblock(*, init_stride, out_size, in_channels, out_channels, num_blocks=2):\n",
    "    b33_1 = B33(init_stride=init_stride, in_size=out_size*init_stride,\n",
    "                out_size=out_size, in_channels=in_channels,\n",
    "                out_channels=out_channels)\n",
    "    # only (num_blocks - 1) more blocks at same resolution\n",
    "    return [b33_1] + [B33(1, out_size, out_size, out_channels, out_channels)] * (num_blocks - 1)\n",
    "\n",
    "initial = [\n",
    "    Conv2D(3, 3, 16, 1, 'SAME'),  # initial conv\n",
    "]\n",
    "\n",
    "final = [\n",
    "    BatchNorm((256, 1, 1), (0,), momentum=0.01, activation=jax.nn.relu),\n",
    "    GlobalAvgPool(),\n",
    "    Flatten(),\n",
    "    Dense(256, 10)  # final dense matches last stage channels\n",
    "]\n",
    "\n",
    "layers = (initial\n",
    "          + wideblock(init_stride=1, out_size=32,  in_channels=16,  out_channels=64,  num_blocks=2)\n",
    "          + wideblock(init_stride=2, out_size=16,  in_channels=64,  out_channels=128, num_blocks=2)\n",
    "          + wideblock(init_stride=2, out_size=8,   in_channels=128, out_channels=256, num_blocks=2)\n",
    "          + final)"
   ]
  },
  {
   "cell_type": "code",
   "execution_count": 27,
   "id": "b5f35fb5-de9b-42b0-8f02-fc0773def628",
   "metadata": {},
   "outputs": [
    {
     "data": {
      "text/plain": [
       "PyTreeDef([*, ({}, {'bn1': {'rmean': *, 'rvar': *}, 'bn2': {'rmean': *, 'rvar': *}}, {'bn1': {'rmean': *, 'rvar': *}, 'bn2': {'rmean': *, 'rvar': *}}, {'bn1': {'rmean': *, 'rvar': *}, 'bn2': {'rmean': *, 'rvar': *}}, {'bn1': {'rmean': *, 'rvar': *}, 'bn2': {'rmean': *, 'rvar': *}}, {'bn1': {'rmean': *, 'rvar': *}, 'bn2': {'rmean': *, 'rvar': *}}, {'bn1': {'rmean': *, 'rvar': *}, 'bn2': {'rmean': *, 'rvar': *}}, {'rmean': *, 'rvar': *}, {}, {}, {}), ({'b': *, 'w': *}, {'bn1': {'beta': *, 'gamma': *}, 'bn2': {'beta': *, 'gamma': *}, 'conv1': {'b': *, 'w': *}, 'conv2': {'b': *, 'w': *}, 'cskip': {'b': *, 'w': *}}, {'bn1': {'beta': *, 'gamma': *}, 'bn2': {'beta': *, 'gamma': *}, 'conv1': {'b': *, 'w': *}, 'conv2': {'b': *, 'w': *}, 'cskip': {'b': *, 'w': *}}, {'bn1': {'beta': *, 'gamma': *}, 'bn2': {'beta': *, 'gamma': *}, 'conv1': {'b': *, 'w': *}, 'conv2': {'b': *, 'w': *}, 'cskip': {'b': *, 'w': *}}, {'bn1': {'beta': *, 'gamma': *}, 'bn2': {'beta': *, 'gamma': *}, 'conv1': {'b': *, 'w': *}, 'conv2': {'b': *, 'w': *}, 'cskip': {'b': *, 'w': *}}, {'bn1': {'beta': *, 'gamma': *}, 'bn2': {'beta': *, 'gamma': *}, 'conv1': {'b': *, 'w': *}, 'conv2': {'b': *, 'w': *}, 'cskip': {'b': *, 'w': *}}, {'bn1': {'beta': *, 'gamma': *}, 'bn2': {'beta': *, 'gamma': *}, 'conv1': {'b': *, 'w': *}, 'conv2': {'b': *, 'w': *}, 'cskip': {'b': *, 'w': *}}, {'beta': *, 'gamma': *}, {}, {}, {'b': *, 'w': *})])"
      ]
     },
     "execution_count": 27,
     "metadata": {},
     "output_type": "execute_result"
    }
   ],
   "source": [
    "params = tuple(l.weights(jax.random.key(0)) for l in layers)\n",
    "state = tuple(l.state() for l in layers)\n",
    "\n",
    "@partial(jax.jit, static_argnames=\"is_training\")\n",
    "def fwd(params, state, X, *, is_training, key):\n",
    "    X = expand_batch(X)\n",
    "    for i, layer in enumerate(layers):\n",
    "        key, subkey = jax.random.split(key)\n",
    "        # print(X.shape)\n",
    "        # print(jax.tree.structure(params[i]))\n",
    "        # print(jax.tree.map_with_path(lambda p, X: f'{p}: {X.shape}', params[i]))\n",
    "        X, state_i = layer.func()(params[i], state[i], X, is_training=is_training, key=subkey)\n",
    "        state = state[:i] + (state_i,) + state[i+1:]  # update tuple immutably\n",
    "    return X, state\n",
    "\n",
    "@jax.jit\n",
    "def loss_fn(params, state, X, y, *, key):\n",
    "    logits, new_state = fwd(params, state, X, is_training=True, key=key)\n",
    "    loss = -jnp.mean(jax.nn.log_softmax(logits)[jnp.arange(y.size), y])\n",
    "    return loss, new_state\n",
    "\n",
    "# Xb, yb = bX[0], by\n",
    "(loss_val, new_state), grads = jax.value_and_grad(loss_fn, has_aux=True)(params, state, bX[0], by[0], key=jax.random.key(0))\n",
    "# fwd(params, state, bX[0], is_training=False, key=jax.random.key(1))\n",
    "\n",
    "jax.tree.structure([loss_val, new_state, grads])"
   ]
  },
  {
   "cell_type": "code",
   "execution_count": 45,
   "id": "8dbf328b-7e59-4051-a87e-865e4cf2a5ca",
   "metadata": {},
   "outputs": [],
   "source": [
    "from functools import partial\n",
    "\n",
    "def lr_schedule(epoch, max_epochs, base_lr=3e-3, min_lr=1e-6, warmup=3):\n",
    "    def warmup_fn(epoch):\n",
    "        return base_lr * (epoch + 1) / warmup\n",
    "\n",
    "    def decay_fn(epoch):\n",
    "        decay_epoch = epoch - warmup\n",
    "        decay_total = max_epochs - warmup\n",
    "        cosine = 0.5 * (1 + jnp.cos(jnp.pi * decay_epoch / decay_total))\n",
    "        return min_lr + (base_lr - min_lr) * cosine\n",
    "\n",
    "    return jax.lax.cond(epoch < warmup, warmup_fn, decay_fn, epoch)\n",
    "\n",
    "\n",
    "@partial(jax.jit, static_argnames=['batch_size', 'num_epochs'])\n",
    "def train(X, y, key, init_params, init_state, *, batch_size, num_epochs):\n",
    "    keys = jax.random.split(key, num_epochs)\n",
    "    opt = Adam(lr=1e-3)  # dummy init; lr overridden manually\n",
    "    opt_state = opt.init(init_params)\n",
    "\n",
    "    def epoch_step(i, carry):\n",
    "        params, state, opt_state = carry\n",
    "\n",
    "        epoch_key, new_batch_key = jax.random.split(keys[i])\n",
    "        bX, by = get_epoch_batches(X, y, epoch_key, batch_size)\n",
    "        step_keys = jax.random.split(new_batch_key, len(bX))\n",
    "        lr = lr_schedule(i, num_epochs)  # new lr each epoch\n",
    "\n",
    "        def batch_step(carry, batch):\n",
    "            params, state, opt_state = carry\n",
    "            Xb, yb, step_key = batch\n",
    "            # jax.debug.print(\"Xb.shape: {s}\", s=Xb.shape)\n",
    "            (loss_val, new_state), grads = jax.value_and_grad(loss_fn, has_aux=True)(\n",
    "                params, state, Xb, yb, key=step_key\n",
    "            )\n",
    "            # g_norm = jax.tree.reduce(lambda a,b: a + jnp.linalg.norm(b), grads, 0.)\n",
    "            # jax.debug.print(\"g_norm-> {m}\", m=g_norm)\n",
    "\n",
    "            updates, opt_state = opt.update(grads, opt_state, lr, params)  # inject lr dynamically\n",
    "            # def tree_max(t):\n",
    "            #     return jax.tree_util.tree_reduce(\n",
    "            #         lambda a, b: jnp.maximum(a, jnp.max(b)), t, -jnp.inf)\n",
    "            \n",
    "            # max_upd = tree_max(updates)\n",
    "            # jax.debug.print(\"global update max: {:.4e}\", max_upd)\n",
    "            \n",
    "            params_before = params\n",
    "            params = opt.apply_updates(params, updates)\n",
    "            def delta_norm(p_old, p_new):\n",
    "                # per‑leaf L2, then sum\n",
    "                leaves = jax.tree.map(lambda a, b: jnp.linalg.norm(a - b), p_old, p_new)\n",
    "                return jax.tree_util.tree_reduce(jnp.add, leaves, 0.0)\n",
    "            \n",
    "            # inside batch_step, right after apply_updates\n",
    "            # jax.debug.print(\"Δparams: {}\", delta_norm(params_before, params))\n",
    "            return (params, new_state, opt_state), loss_val\n",
    "\n",
    "        (params, state, opt_state), loss_vals = jax.lax.scan(\n",
    "            batch_step, (params, state, opt_state), (bX, by, step_keys)\n",
    "        )\n",
    "        jax.debug.print(\"epoch {i}, lr: {lr:.6f}, loss: {l:.4f}\", i=i, lr=lr, l=jnp.mean(loss_vals))\n",
    "        return params, state, opt_state\n",
    "        \n",
    "    params, state, _ = jax.lax.fori_loop(0, num_epochs, epoch_step, (init_params, init_state, opt_state))\n",
    "    return params, state\n",
    "\n",
    "\n"
   ]
  },
  {
   "cell_type": "code",
   "execution_count": 46,
   "id": "075654c3-b5e6-43c3-98d3-85f8f251c7a6",
   "metadata": {},
   "outputs": [
    {
     "name": "stdout",
     "output_type": "stream",
     "text": [
      "epoch 0, lr: 0.001000, loss: 0.0057\n",
      "epoch 1, lr: 0.002000, loss: 0.0378\n",
      "epoch 2, lr: 0.003000, loss: 0.0615\n",
      "epoch 3, lr: 0.003000, loss: 0.0357\n",
      "epoch 4, lr: 0.002852, loss: 0.0329\n",
      "epoch 5, lr: 0.002435, loss: 0.0207\n",
      "epoch 6, lr: 0.001834, loss: 0.0099\n",
      "epoch 7, lr: 0.001167, loss: 0.0027\n",
      "epoch 8, lr: 0.000566, loss: 0.0007\n",
      "epoch 9, lr: 0.000149, loss: 0.0004\n"
     ]
    }
   ],
   "source": [
    "params, state = train(X_train, y_train, jax.random.key(42), params, state, batch_size=64, num_epochs=10)"
   ]
  },
  {
   "cell_type": "code",
   "execution_count": 13,
   "id": "104462f3-8ac6-44f2-9e13-ef236442895f",
   "metadata": {},
   "outputs": [
    {
     "name": "stdout",
     "output_type": "stream",
     "text": [
      "14.583722114562988\n"
     ]
    }
   ],
   "source": [
    "logits, _ = fwd(params, state, X_train[:64], is_training=False, key=jax.random.key(0))\n",
    "print(float(jnp.std(logits))) "
   ]
  },
  {
   "cell_type": "code",
   "execution_count": 30,
   "id": "0ce5cb15-8e68-4b29-bf5c-f39b6e6ba6af",
   "metadata": {},
   "outputs": [],
   "source": [
    "import pickle\n",
    "\n",
    "with open(\"model.pkl\", \"wb\") as f:\n",
    "    pickle.dump((params, state), f)"
   ]
  },
  {
   "cell_type": "code",
   "execution_count": 31,
   "id": "c4c7f928-32a7-4607-a81d-7044dddd461a",
   "metadata": {},
   "outputs": [
    {
     "data": {
      "text/plain": [
       "((10000, 3, 32, 32), (10000,))"
      ]
     },
     "execution_count": 31,
     "metadata": {},
     "output_type": "execute_result"
    }
   ],
   "source": [
    "X_test, y_test = process_single_batch(unpickle(f'data/cifar-10-batches-py/test_batch'))\n",
    "X_test.shape, y_test.shape"
   ]
  },
  {
   "cell_type": "code",
   "execution_count": 47,
   "id": "eb71bb54-309b-4883-aea6-716b1e315e0e",
   "metadata": {},
   "outputs": [],
   "source": [
    "# def compute_minibatch_loss(params, batch):\n",
    "#     Xb, yb = batch\n",
    "#     # print(jnp.argmax(fwd(params, Xb), axis=1).shape)\n",
    "#     logins \n",
    "#     minibatch_accuracy = jnp.mean(yb == jnp.argmax(fwd(params, state, Xb, is_training=False, key=jax.random.key(42)), axis=1))\n",
    "#     print(yb)\n",
    "#     print(jnp.argmax(fwd(params, Xb), axis=1))\n",
    "#     return params, (minibatch_accuracy, loss(params, Xb, yb))\n",
    "\n",
    "# _, (minibatch_accuracy, minibatch_losses) = jax.lax.scan(compute_minibatch_loss, params, get_epoch_batches(X_test, y_test, jax.random.key(0), batch_size = 128))\n",
    "# test_loss = jnp.mean(minibatch_losses)\n",
    "# test_accuracy = jnp.mean(minibatch_accuracy)\n",
    "# test_loss, test_accuracy\n",
    "\n",
    "\n",
    "def compute_minibatch_loss(carry, batch):\n",
    "    params, state = carry\n",
    "    Xb, yb = batch\n",
    "    logits, state = fwd(params, state, Xb, is_training=False, key=jax.random.key(42))\n",
    "    preds = jnp.argmax(logits, axis=1)\n",
    "    acc = jnp.mean(preds == yb)\n",
    "    # l = loss(params, Xb, yb)\n",
    "    return (params, state), (acc, 1.0)  # carry is just params (unused)\n",
    "\n",
    "_, (accuracies, losses) = jax.lax.scan(\n",
    "    lambda carry, batch: compute_minibatch_loss(carry, batch),\n",
    "    (params, state),\n",
    "    get_epoch_batches(X_test, y_test, jax.random.key(0), batch_size=128)\n",
    ")\n",
    "\n",
    "test_loss = jnp.mean(losses)\n",
    "test_acc = jnp.mean(accuracies)"
   ]
  },
  {
   "cell_type": "code",
   "execution_count": 48,
   "id": "99fd689c-f4ea-4019-b312-e5417ce93b2a",
   "metadata": {},
   "outputs": [
    {
     "data": {
      "text/plain": [
       "Array(0.8371394, dtype=float32)"
      ]
     },
     "execution_count": 48,
     "metadata": {},
     "output_type": "execute_result"
    }
   ],
   "source": [
    "test_acc"
   ]
  },
  {
   "cell_type": "code",
   "execution_count": null,
   "id": "965e0e2b-b4e3-482e-88fe-c8f4613d62ad",
   "metadata": {},
   "outputs": [],
   "source": []
  }
 ],
 "metadata": {
  "kernelspec": {
   "display_name": "Python 3 (ipykernel)",
   "language": "python",
   "name": "python3"
  },
  "language_info": {
   "codemirror_mode": {
    "name": "ipython",
    "version": 3
   },
   "file_extension": ".py",
   "mimetype": "text/x-python",
   "name": "python",
   "nbconvert_exporter": "python",
   "pygments_lexer": "ipython3",
   "version": "3.12.5"
  }
 },
 "nbformat": 4,
 "nbformat_minor": 5
}
