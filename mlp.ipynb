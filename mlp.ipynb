{
 "cells": [
  {
   "cell_type": "markdown",
   "id": "3435f5dc-4269-43ca-9747-0d1e33f8ba37",
   "metadata": {},
   "source": [
    "# Multilayer Perceptron (MNIST)\n",
    "\n",
    "for a multilayer perceptron (mlp), the objective is to minimize a loss function over the dataset. assuming supervised learning with input–label pairs $(x_i, y_i)$, the generic minimization problem is:\n",
    "\n",
    "$$\n",
    "\\min_\\theta \\frac{1}{N} \\sum_{i=1}^N \\mathcal{L}(f_\\theta(x_i), y_i)\n",
    "$$\n",
    "\n",
    "where:\n",
    "\n",
    "* $f_\\theta(x)$ is the output of the MLP with parameters $\\theta$ (weights + biases across all layers),\n",
    "* $\\mathcal{L}(\\cdot, \\cdot)$ is the loss function, e.g. mean squared error (MSE), cross-entropy, etc.,\n",
    "* $N$ is the number of training samples.\n",
    "\n",
    "---\n",
    "\n",
    "**for regression (MSE loss):**\n",
    "\n",
    "$$\n",
    "\\mathcal{L}(f_\\theta(x), y) = \\|f_\\theta(x) - y\\|^2\n",
    "$$\n",
    "\n",
    "**for binary classification (sigmoid output + binary cross entropy):**\n",
    "$$\n",
    "\\mathcal{L}(f_\\theta(x), y) = -y \\log f_\\theta(x) - (1 - y) \\log(1 - f_\\theta(x))\n",
    "$$\n",
    "\n",
    "**for multiclass classification (softmax + cross entropy):**\n",
    "\n",
    "$$\n",
    "\\mathcal{L}(f_\\theta(x), y) = -\\sum_{k=1}^K y_k \\log \\left( \\text{softmax}(f_\\theta(x))_k \\right)\n",
    "$$\n",
    "\n",
    "---\n",
    "\n",
    "the MLP itself is defined recursively:\n",
    "\n",
    "$$\n",
    "\\begin{aligned}\n",
    "h^{(0)} &= x \\\\\n",
    "h^{(l)} &= \\sigma(W^{(l)} h^{(l-1)} + b^{(l)}), \\quad l = 1, \\dots, L-1 \\\\\n",
    "f_\\theta(x) &= W^{(L)} h^{(L-1)} + b^{(L)} \\quad \\text{(or apply output activation)}\n",
    "\\end{aligned}\n",
    "$$\n",
    "\n",
    "where:\n",
    "\n",
    "* $\\sigma$ is an activation function (ReLU, tanh, etc.),\n",
    "* $\\theta = \\{W^{(l)}, b^{(l)}\\}_{l=1}^L$.\n",
    "\n",
    "---\n",
    "\n",
    "you can add regularization if desired:\n",
    "\n",
    "$$\n",
    "\\min_\\theta \\frac{1}{N} \\sum_{i=1}^N \\mathcal{L}(f_\\theta(x_i), y_i) + \\lambda \\|\\theta\\|^2\n",
    "$$"
   ]
  },
  {
   "cell_type": "code",
   "execution_count": 1,
   "id": "f69e6b2f-e350-4ba3-93ed-db529c93417f",
   "metadata": {},
   "outputs": [],
   "source": [
    "# Imports\n",
    "# import os\n",
    "# os.environ[\"JAX_PLATFORM_NAME\"] = \"METAL\"          # before importing jax\n",
    "# os.environ[\"JAX_PLATFORMS\"] = \"metal,cpu\"        # allow cpu fallback for missing op\n",
    "import jax\n",
    "import jax.numpy as jnp\n",
    "import matplotlib.pyplot as plt\n",
    "import pandas as pd\n",
    "\n",
    "# For image processing\n",
    "from io import BytesIO\n",
    "from PIL import Image\n",
    "import matplotlib.pyplot as plt\n",
    "import numpy as np"
   ]
  },
  {
   "cell_type": "code",
   "execution_count": 2,
   "id": "552d5e18-ae80-46f1-bcb8-b0e774485a18",
   "metadata": {},
   "outputs": [
    {
     "data": {
      "text/plain": [
       "[CpuDevice(id=0)]"
      ]
     },
     "execution_count": 2,
     "metadata": {},
     "output_type": "execute_result"
    }
   ],
   "source": [
    "jax.devices()"
   ]
  },
  {
   "cell_type": "code",
   "execution_count": 3,
   "id": "6af10f5c-1de1-4477-b9db-20e83617b165",
   "metadata": {},
   "outputs": [
    {
     "data": {
      "text/html": [
       "<div>\n",
       "<style scoped>\n",
       "    .dataframe tbody tr th:only-of-type {\n",
       "        vertical-align: middle;\n",
       "    }\n",
       "\n",
       "    .dataframe tbody tr th {\n",
       "        vertical-align: top;\n",
       "    }\n",
       "\n",
       "    .dataframe thead th {\n",
       "        text-align: right;\n",
       "    }\n",
       "</style>\n",
       "<table border=\"1\" class=\"dataframe\">\n",
       "  <thead>\n",
       "    <tr style=\"text-align: right;\">\n",
       "      <th></th>\n",
       "      <th>image</th>\n",
       "      <th>label</th>\n",
       "    </tr>\n",
       "  </thead>\n",
       "  <tbody>\n",
       "    <tr>\n",
       "      <th>0</th>\n",
       "      <td>{'bytes': b'\\x89PNG\\r\\n\\x1a\\n\\x00\\x00\\x00\\rIHD...</td>\n",
       "      <td>5</td>\n",
       "    </tr>\n",
       "    <tr>\n",
       "      <th>1</th>\n",
       "      <td>{'bytes': b'\\x89PNG\\r\\n\\x1a\\n\\x00\\x00\\x00\\rIHD...</td>\n",
       "      <td>0</td>\n",
       "    </tr>\n",
       "    <tr>\n",
       "      <th>2</th>\n",
       "      <td>{'bytes': b'\\x89PNG\\r\\n\\x1a\\n\\x00\\x00\\x00\\rIHD...</td>\n",
       "      <td>4</td>\n",
       "    </tr>\n",
       "    <tr>\n",
       "      <th>3</th>\n",
       "      <td>{'bytes': b\"\\x89PNG\\r\\n\\x1a\\n\\x00\\x00\\x00\\rIHD...</td>\n",
       "      <td>1</td>\n",
       "    </tr>\n",
       "    <tr>\n",
       "      <th>4</th>\n",
       "      <td>{'bytes': b'\\x89PNG\\r\\n\\x1a\\n\\x00\\x00\\x00\\rIHD...</td>\n",
       "      <td>9</td>\n",
       "    </tr>\n",
       "    <tr>\n",
       "      <th>...</th>\n",
       "      <td>...</td>\n",
       "      <td>...</td>\n",
       "    </tr>\n",
       "    <tr>\n",
       "      <th>59995</th>\n",
       "      <td>{'bytes': b'\\x89PNG\\r\\n\\x1a\\n\\x00\\x00\\x00\\rIHD...</td>\n",
       "      <td>8</td>\n",
       "    </tr>\n",
       "    <tr>\n",
       "      <th>59996</th>\n",
       "      <td>{'bytes': b'\\x89PNG\\r\\n\\x1a\\n\\x00\\x00\\x00\\rIHD...</td>\n",
       "      <td>3</td>\n",
       "    </tr>\n",
       "    <tr>\n",
       "      <th>59997</th>\n",
       "      <td>{'bytes': b'\\x89PNG\\r\\n\\x1a\\n\\x00\\x00\\x00\\rIHD...</td>\n",
       "      <td>5</td>\n",
       "    </tr>\n",
       "    <tr>\n",
       "      <th>59998</th>\n",
       "      <td>{'bytes': b'\\x89PNG\\r\\n\\x1a\\n\\x00\\x00\\x00\\rIHD...</td>\n",
       "      <td>6</td>\n",
       "    </tr>\n",
       "    <tr>\n",
       "      <th>59999</th>\n",
       "      <td>{'bytes': b'\\x89PNG\\r\\n\\x1a\\n\\x00\\x00\\x00\\rIHD...</td>\n",
       "      <td>8</td>\n",
       "    </tr>\n",
       "  </tbody>\n",
       "</table>\n",
       "<p>60000 rows × 2 columns</p>\n",
       "</div>"
      ],
      "text/plain": [
       "                                                   image  label\n",
       "0      {'bytes': b'\\x89PNG\\r\\n\\x1a\\n\\x00\\x00\\x00\\rIHD...      5\n",
       "1      {'bytes': b'\\x89PNG\\r\\n\\x1a\\n\\x00\\x00\\x00\\rIHD...      0\n",
       "2      {'bytes': b'\\x89PNG\\r\\n\\x1a\\n\\x00\\x00\\x00\\rIHD...      4\n",
       "3      {'bytes': b\"\\x89PNG\\r\\n\\x1a\\n\\x00\\x00\\x00\\rIHD...      1\n",
       "4      {'bytes': b'\\x89PNG\\r\\n\\x1a\\n\\x00\\x00\\x00\\rIHD...      9\n",
       "...                                                  ...    ...\n",
       "59995  {'bytes': b'\\x89PNG\\r\\n\\x1a\\n\\x00\\x00\\x00\\rIHD...      8\n",
       "59996  {'bytes': b'\\x89PNG\\r\\n\\x1a\\n\\x00\\x00\\x00\\rIHD...      3\n",
       "59997  {'bytes': b'\\x89PNG\\r\\n\\x1a\\n\\x00\\x00\\x00\\rIHD...      5\n",
       "59998  {'bytes': b'\\x89PNG\\r\\n\\x1a\\n\\x00\\x00\\x00\\rIHD...      6\n",
       "59999  {'bytes': b'\\x89PNG\\r\\n\\x1a\\n\\x00\\x00\\x00\\rIHD...      8\n",
       "\n",
       "[60000 rows x 2 columns]"
      ]
     },
     "execution_count": 3,
     "metadata": {},
     "output_type": "execute_result"
    }
   ],
   "source": [
    "df = pd.read_parquet('data/mnist_train.parquet')\n",
    "df"
   ]
  },
  {
   "cell_type": "code",
   "execution_count": 4,
   "id": "5111f6e3-db56-4328-bf82-9b76374c3d3a",
   "metadata": {},
   "outputs": [
    {
     "data": {
      "text/html": [
       "<div>\n",
       "<style scoped>\n",
       "    .dataframe tbody tr th:only-of-type {\n",
       "        vertical-align: middle;\n",
       "    }\n",
       "\n",
       "    .dataframe tbody tr th {\n",
       "        vertical-align: top;\n",
       "    }\n",
       "\n",
       "    .dataframe thead th {\n",
       "        text-align: right;\n",
       "    }\n",
       "</style>\n",
       "<table border=\"1\" class=\"dataframe\">\n",
       "  <thead>\n",
       "    <tr style=\"text-align: right;\">\n",
       "      <th></th>\n",
       "      <th>image</th>\n",
       "      <th>label</th>\n",
       "    </tr>\n",
       "  </thead>\n",
       "  <tbody>\n",
       "    <tr>\n",
       "      <th>0</th>\n",
       "      <td>{'bytes': b'\\x89PNG\\r\\n\\x1a\\n\\x00\\x00\\x00\\rIHD...</td>\n",
       "      <td>5</td>\n",
       "    </tr>\n",
       "    <tr>\n",
       "      <th>1</th>\n",
       "      <td>{'bytes': b'\\x89PNG\\r\\n\\x1a\\n\\x00\\x00\\x00\\rIHD...</td>\n",
       "      <td>0</td>\n",
       "    </tr>\n",
       "    <tr>\n",
       "      <th>2</th>\n",
       "      <td>{'bytes': b'\\x89PNG\\r\\n\\x1a\\n\\x00\\x00\\x00\\rIHD...</td>\n",
       "      <td>4</td>\n",
       "    </tr>\n",
       "    <tr>\n",
       "      <th>3</th>\n",
       "      <td>{'bytes': b\"\\x89PNG\\r\\n\\x1a\\n\\x00\\x00\\x00\\rIHD...</td>\n",
       "      <td>1</td>\n",
       "    </tr>\n",
       "    <tr>\n",
       "      <th>4</th>\n",
       "      <td>{'bytes': b'\\x89PNG\\r\\n\\x1a\\n\\x00\\x00\\x00\\rIHD...</td>\n",
       "      <td>9</td>\n",
       "    </tr>\n",
       "    <tr>\n",
       "      <th>...</th>\n",
       "      <td>...</td>\n",
       "      <td>...</td>\n",
       "    </tr>\n",
       "    <tr>\n",
       "      <th>59995</th>\n",
       "      <td>{'bytes': b'\\x89PNG\\r\\n\\x1a\\n\\x00\\x00\\x00\\rIHD...</td>\n",
       "      <td>8</td>\n",
       "    </tr>\n",
       "    <tr>\n",
       "      <th>59996</th>\n",
       "      <td>{'bytes': b'\\x89PNG\\r\\n\\x1a\\n\\x00\\x00\\x00\\rIHD...</td>\n",
       "      <td>3</td>\n",
       "    </tr>\n",
       "    <tr>\n",
       "      <th>59997</th>\n",
       "      <td>{'bytes': b'\\x89PNG\\r\\n\\x1a\\n\\x00\\x00\\x00\\rIHD...</td>\n",
       "      <td>5</td>\n",
       "    </tr>\n",
       "    <tr>\n",
       "      <th>59998</th>\n",
       "      <td>{'bytes': b'\\x89PNG\\r\\n\\x1a\\n\\x00\\x00\\x00\\rIHD...</td>\n",
       "      <td>6</td>\n",
       "    </tr>\n",
       "    <tr>\n",
       "      <th>59999</th>\n",
       "      <td>{'bytes': b'\\x89PNG\\r\\n\\x1a\\n\\x00\\x00\\x00\\rIHD...</td>\n",
       "      <td>8</td>\n",
       "    </tr>\n",
       "  </tbody>\n",
       "</table>\n",
       "<p>60000 rows × 2 columns</p>\n",
       "</div>"
      ],
      "text/plain": [
       "                                                   image  label\n",
       "0      {'bytes': b'\\x89PNG\\r\\n\\x1a\\n\\x00\\x00\\x00\\rIHD...      5\n",
       "1      {'bytes': b'\\x89PNG\\r\\n\\x1a\\n\\x00\\x00\\x00\\rIHD...      0\n",
       "2      {'bytes': b'\\x89PNG\\r\\n\\x1a\\n\\x00\\x00\\x00\\rIHD...      4\n",
       "3      {'bytes': b\"\\x89PNG\\r\\n\\x1a\\n\\x00\\x00\\x00\\rIHD...      1\n",
       "4      {'bytes': b'\\x89PNG\\r\\n\\x1a\\n\\x00\\x00\\x00\\rIHD...      9\n",
       "...                                                  ...    ...\n",
       "59995  {'bytes': b'\\x89PNG\\r\\n\\x1a\\n\\x00\\x00\\x00\\rIHD...      8\n",
       "59996  {'bytes': b'\\x89PNG\\r\\n\\x1a\\n\\x00\\x00\\x00\\rIHD...      3\n",
       "59997  {'bytes': b'\\x89PNG\\r\\n\\x1a\\n\\x00\\x00\\x00\\rIHD...      5\n",
       "59998  {'bytes': b'\\x89PNG\\r\\n\\x1a\\n\\x00\\x00\\x00\\rIHD...      6\n",
       "59999  {'bytes': b'\\x89PNG\\r\\n\\x1a\\n\\x00\\x00\\x00\\rIHD...      8\n",
       "\n",
       "[60000 rows x 2 columns]"
      ]
     },
     "execution_count": 4,
     "metadata": {},
     "output_type": "execute_result"
    }
   ],
   "source": [
    "def show_image(byte_str):    \n",
    "    img = Image.open(BytesIO(byte_str))\n",
    "    plt.imshow(img)\n",
    "    plt.axis('off')\n",
    "    plt.show()\n",
    "\n",
    "# show_image(df['image'][2]['bytes']), df['label'][2]\n",
    "\n",
    "df"
   ]
  },
  {
   "cell_type": "code",
   "execution_count": 5,
   "id": "bbda6814-8fb7-49a7-9482-e514ab7e7a7a",
   "metadata": {},
   "outputs": [
    {
     "data": {
      "text/plain": [
       "((60000, 784), (60000, 10))"
      ]
     },
     "execution_count": 5,
     "metadata": {},
     "output_type": "execute_result"
    }
   ],
   "source": [
    "def bytes_dict_to_jax_array(d):\n",
    "    img = Image.open(BytesIO(d['bytes']))\n",
    "    return jnp.array(img)\n",
    "\n",
    "def preprocess_df(df):\n",
    "    df = df.copy()\n",
    "    df['image'] = df['image'].map(bytes_dict_to_jax_array)\n",
    "    X, y = jnp.stack(df['image'].tolist()), jax.nn.one_hot(df['label'], 10)\n",
    "    X = X.reshape(X.shape[0], -1) / 255\n",
    "    return X, y\n",
    "\n",
    "X_train, y_train = preprocess_df(df)\n",
    "X_train.shape, y_train.shape"
   ]
  },
  {
   "cell_type": "code",
   "execution_count": 6,
   "id": "d801a69f-fa66-4615-8daa-09a49b723603",
   "metadata": {},
   "outputs": [
    {
     "data": {
      "text/plain": [
       "[((128, 784), (128, 1)), ((64, 128), (64, 1)), ((10, 64), (10, 1))]"
      ]
     },
     "execution_count": 6,
     "metadata": {},
     "output_type": "execute_result"
    }
   ],
   "source": [
    "def create_params(layers):\n",
    "    key = jax.random.key(42)\n",
    "    def create_matrix_and_bias(n, m, key):\n",
    "        k1, k2 = jax.random.split(key)\n",
    "        return jax.random.normal(k1, (m, n)), jax.random.normal(k2, (m, 1))\n",
    "    \n",
    "    params = list(map(create_matrix_and_bias, layers, layers[1:], jax.random.split(jax.random.key(42), len(layers)-1)))\n",
    "    return params\n",
    "\n",
    "layers = [X_train.shape[1], 128, 64, 10]\n",
    "jax.tree.map(lambda p: p.shape, create_params(layers))"
   ]
  },
  {
   "cell_type": "code",
   "execution_count": 7,
   "id": "8307929e-91f5-4850-9746-414a52cd52c1",
   "metadata": {},
   "outputs": [],
   "source": [
    "@jax.jit\n",
    "def fwd(params, X):\n",
    "    h = X.T\n",
    "    for W, b in params:\n",
    "        l = W @ h + b\n",
    "        h = jax.nn.relu(l)\n",
    "    return l.T # do not relu last layer\n",
    "\n",
    "# fwd(params, X_train).shape, y_train.shape\n",
    "@jax.jit\n",
    "def loss(params, X, y):\n",
    "    logits = fwd(params, X)\n",
    "    return -jnp.mean(jnp.sum(y*jax.nn.log_softmax(logits), axis=1))"
   ]
  },
  {
   "cell_type": "code",
   "execution_count": 8,
   "id": "ab61df64-7302-498a-b280-a634a395b576",
   "metadata": {},
   "outputs": [],
   "source": [
    "grad_loss = jax.jit(jax.grad(loss))\n",
    "\n",
    "@jax.jit\n",
    "def train(params, X_train, y_train):\n",
    "    lr = 0.003\n",
    "\n",
    "    def body(i, params):\n",
    "        params = jax.tree.map(lambda param, grad: param - lr * grad, params, grad_loss(params, X_train, y_train))\n",
    "        # params = [param - lr * grad for param, grad in zip(params, grad_loss(params, X_train, y_train))]\n",
    "        # params -= lr * grad_loss(params, X_train, y_train)\n",
    "\n",
    "        def do_print(_):\n",
    "            jax.debug.print(\"step {i}, loss: {l}\", i=i, l=loss(params, X_train, y_train))\n",
    "            return None\n",
    "\n",
    "        _ = jax.lax.cond(i % 100 == 0, do_print, lambda _: None, operand=None)\n",
    "        return params\n",
    "\n",
    "    params = jax.lax.fori_loop(0, 30000, body, params)\n",
    "    return params\n",
    "\n",
    "# params = train(create_params(layers))"
   ]
  },
  {
   "cell_type": "code",
   "execution_count": 11,
   "id": "afc0110b-3756-4b1c-8736-839aa9ef7827",
   "metadata": {},
   "outputs": [
    {
     "data": {
      "application/vnd.jupyter.widget-view+json": {
       "model_id": "611f2a26943a4e7fb73c01354d459f4f",
       "version_major": 2,
       "version_minor": 0
      },
      "text/plain": [
       "Output()"
      ]
     },
     "metadata": {},
     "output_type": "display_data"
    },
    {
     "data": {
      "text/html": [
       "<pre style=\"white-space:pre;overflow-x:auto;line-height:normal;font-family:Menlo,'DejaVu Sans Mono',consolas,'Courier New',monospace\"><span style=\"color: #008000; text-decoration-color: #008000\">✓</span> Initialized. <span style=\"color: #b2b2b2; text-decoration-color: #b2b2b2\">View run at </span><span style=\"color: #b2b2b2; text-decoration-color: #b2b2b2; text-decoration: underline\">https://modal.com/apps/zoravur/main/ap-33X7JsL23qOQ8CCd3nbDWU</span>\n",
       "</pre>\n"
      ],
      "text/plain": [
       "\u001b[32m✓\u001b[0m Initialized. \u001b[38;5;249mView run at \u001b[0m\u001b[4;38;5;249mhttps://modal.com/apps/zoravur/main/ap-33X7JsL23qOQ8CCd3nbDWU\u001b[0m\n"
      ]
     },
     "metadata": {},
     "output_type": "display_data"
    },
    {
     "data": {
      "text/html": [
       "<pre style=\"white-space:pre;overflow-x:auto;line-height:normal;font-family:Menlo,'DejaVu Sans Mono',consolas,'Courier New',monospace\"></pre>\n"
      ],
      "text/plain": []
     },
     "metadata": {},
     "output_type": "display_data"
    },
    {
     "data": {
      "application/vnd.jupyter.widget-view+json": {
       "model_id": "f875dfaf76a44ebf91e8160ffe568579",
       "version_major": 2,
       "version_minor": 0
      },
      "text/plain": [
       "Output()"
      ]
     },
     "metadata": {},
     "output_type": "display_data"
    },
    {
     "data": {
      "text/html": [
       "<pre style=\"white-space:pre;overflow-x:auto;line-height:normal;font-family:Menlo,'DejaVu Sans Mono',consolas,'Courier New',monospace\"></pre>\n"
      ],
      "text/plain": []
     },
     "metadata": {},
     "output_type": "display_data"
    },
    {
     "data": {
      "text/html": [
       "<pre style=\"white-space:pre;overflow-x:auto;line-height:normal;font-family:Menlo,'DejaVu Sans Mono',consolas,'Courier New',monospace\"><span style=\"color: #808000; text-decoration-color: #808000\">Stopping app - uncaught exception raised locally: InvalidError('Function &lt;function modal_train at 0x12e879c60&gt; has size 190576541 bytes when packaged. This is larger than the maximum limit of 16 MiB. Try reducing the size of the closure by using parameters or mounts, not large global variables.').\n",
       "</span></pre>\n"
      ],
      "text/plain": [
       "\u001b[33mStopping app - uncaught exception raised locally: InvalidError('Function <function modal_train at 0x12e879c60> has size 190576541 bytes when packaged. This is larger than the maximum limit of 16 MiB. Try reducing the size of the closure by using parameters or mounts, not large global variables.').\n",
       "\u001b[0m"
      ]
     },
     "metadata": {},
     "output_type": "display_data"
    },
    {
     "ename": "InvalidError",
     "evalue": "Function <function modal_train at 0x12e879c60> has size 190576541 bytes when packaged. This is larger than the maximum limit of 16 MiB. Try reducing the size of the closure by using parameters or mounts, not large global variables.",
     "output_type": "error",
     "traceback": [
      "\u001b[31m---------------------------------------------------------------------------\u001b[39m",
      "\u001b[31mInvalidError\u001b[39m                              Traceback (most recent call last)",
      "\u001b[36mCell\u001b[39m\u001b[36m \u001b[39m\u001b[32mIn[11]\u001b[39m\u001b[32m, line 12\u001b[39m\n\u001b[32m      8\u001b[39m     \u001b[38;5;28;01mreturn\u001b[39;00m params\n\u001b[32m     11\u001b[39m \u001b[38;5;28;01mwith\u001b[39;00m modal.enable_output():\n\u001b[32m---> \u001b[39m\u001b[32m12\u001b[39m \u001b[43m    \u001b[49m\u001b[38;5;28;43;01mwith\u001b[39;49;00m\u001b[43m \u001b[49m\u001b[43mapp\u001b[49m\u001b[43m.\u001b[49m\u001b[43mrun\u001b[49m\u001b[43m(\u001b[49m\u001b[43m)\u001b[49m\u001b[43m:\u001b[49m\n\u001b[32m     13\u001b[39m \u001b[43m        \u001b[49m\u001b[38;5;66;43;03m# my_function.remote(42)\u001b[39;49;00m\n\u001b[32m     14\u001b[39m \u001b[43m        \u001b[49m\u001b[43mparams\u001b[49m\u001b[43m \u001b[49m\u001b[43m=\u001b[49m\u001b[43m \u001b[49m\u001b[43mmodal_train\u001b[49m\u001b[43m.\u001b[49m\u001b[43mremote\u001b[49m\u001b[43m(\u001b[49m\u001b[43mX_train\u001b[49m\u001b[43m,\u001b[49m\u001b[43m \u001b[49m\u001b[43my_train\u001b[49m\u001b[43m)\u001b[49m\n",
      "\u001b[36mFile \u001b[39m\u001b[32m/opt/homebrew/Cellar/python@3.11/3.11.11/Frameworks/Python.framework/Versions/3.11/lib/python3.11/contextlib.py:210\u001b[39m, in \u001b[36m_AsyncGeneratorContextManager.__aenter__\u001b[39m\u001b[34m(self)\u001b[39m\n\u001b[32m    208\u001b[39m \u001b[38;5;28;01mdel\u001b[39;00m \u001b[38;5;28mself\u001b[39m.args, \u001b[38;5;28mself\u001b[39m.kwds, \u001b[38;5;28mself\u001b[39m.func\n\u001b[32m    209\u001b[39m \u001b[38;5;28;01mtry\u001b[39;00m:\n\u001b[32m--> \u001b[39m\u001b[32m210\u001b[39m     \u001b[38;5;28;01mreturn\u001b[39;00m \u001b[38;5;28;01mawait\u001b[39;00m anext(\u001b[38;5;28mself\u001b[39m.gen)\n\u001b[32m    211\u001b[39m \u001b[38;5;28;01mexcept\u001b[39;00m \u001b[38;5;167;01mStopAsyncIteration\u001b[39;00m:\n\u001b[32m    212\u001b[39m     \u001b[38;5;28;01mraise\u001b[39;00m \u001b[38;5;167;01mRuntimeError\u001b[39;00m(\u001b[33m\"\u001b[39m\u001b[33mgenerator didn\u001b[39m\u001b[33m'\u001b[39m\u001b[33mt yield\u001b[39m\u001b[33m\"\u001b[39m) \u001b[38;5;28;01mfrom\u001b[39;00m\u001b[38;5;250m \u001b[39m\u001b[38;5;28;01mNone\u001b[39;00m\n",
      "\u001b[36mFile \u001b[39m\u001b[32m~/TEMPDIRTILLMACSYNC/jax/venv/lib/python3.11/site-packages/modal/app.py:364\u001b[39m, in \u001b[36m_App.run\u001b[39m\u001b[34m(self, client, detach, interactive, environment_name)\u001b[39m\n\u001b[32m    323\u001b[39m \u001b[38;5;250m\u001b[39m\u001b[33;03m\"\"\"Context manager that runs an ephemeral app on Modal.\u001b[39;00m\n\u001b[32m    324\u001b[39m \n\u001b[32m    325\u001b[39m \u001b[33;03mUse this as the main entry point for your Modal application. All calls\u001b[39;00m\n\u001b[32m   (...)\u001b[39m\u001b[32m    360\u001b[39m \n\u001b[32m    361\u001b[39m \u001b[33;03m\"\"\"\u001b[39;00m\n\u001b[32m    362\u001b[39m \u001b[38;5;28;01mfrom\u001b[39;00m\u001b[38;5;250m \u001b[39m\u001b[34;01m.\u001b[39;00m\u001b[34;01mrunner\u001b[39;00m\u001b[38;5;250m \u001b[39m\u001b[38;5;28;01mimport\u001b[39;00m _run_app  \u001b[38;5;66;03m# Defer import of runner.py, which imports a lot from Rich\u001b[39;00m\n\u001b[32m--> \u001b[39m\u001b[32m364\u001b[39m \u001b[38;5;28;01masync\u001b[39;00m \u001b[38;5;28;01mwith\u001b[39;00m _run_app(\n\u001b[32m    365\u001b[39m     \u001b[38;5;28mself\u001b[39m, client=client, detach=detach, interactive=interactive, environment_name=environment_name\n\u001b[32m    366\u001b[39m ):\n\u001b[32m    367\u001b[39m     \u001b[38;5;28;01myield\u001b[39;00m \u001b[38;5;28mself\u001b[39m\n",
      "\u001b[36mFile \u001b[39m\u001b[32m/opt/homebrew/Cellar/python@3.11/3.11.11/Frameworks/Python.framework/Versions/3.11/lib/python3.11/contextlib.py:210\u001b[39m, in \u001b[36m_AsyncGeneratorContextManager.__aenter__\u001b[39m\u001b[34m(self)\u001b[39m\n\u001b[32m    208\u001b[39m \u001b[38;5;28;01mdel\u001b[39;00m \u001b[38;5;28mself\u001b[39m.args, \u001b[38;5;28mself\u001b[39m.kwds, \u001b[38;5;28mself\u001b[39m.func\n\u001b[32m    209\u001b[39m \u001b[38;5;28;01mtry\u001b[39;00m:\n\u001b[32m--> \u001b[39m\u001b[32m210\u001b[39m     \u001b[38;5;28;01mreturn\u001b[39;00m \u001b[38;5;28;01mawait\u001b[39;00m anext(\u001b[38;5;28mself\u001b[39m.gen)\n\u001b[32m    211\u001b[39m \u001b[38;5;28;01mexcept\u001b[39;00m \u001b[38;5;167;01mStopAsyncIteration\u001b[39;00m:\n\u001b[32m    212\u001b[39m     \u001b[38;5;28;01mraise\u001b[39;00m \u001b[38;5;167;01mRuntimeError\u001b[39;00m(\u001b[33m\"\u001b[39m\u001b[33mgenerator didn\u001b[39m\u001b[33m'\u001b[39m\u001b[33mt yield\u001b[39m\u001b[33m\"\u001b[39m) \u001b[38;5;28;01mfrom\u001b[39;00m\u001b[38;5;250m \u001b[39m\u001b[38;5;28;01mNone\u001b[39;00m\n",
      "\u001b[36mFile \u001b[39m\u001b[32m~/TEMPDIRTILLMACSYNC/jax/venv/lib/python3.11/site-packages/modal/runner.py:340\u001b[39m, in \u001b[36m_run_app\u001b[39m\u001b[34m(app, client, detach, environment_name, interactive)\u001b[39m\n\u001b[32m    334\u001b[39m     logs_loop = tc.create_task(\n\u001b[32m    335\u001b[39m         get_app_logs_loop(client, output_mgr, app_id=running_app.app_id, app_logs_url=running_app.app_logs_url)\n\u001b[32m    336\u001b[39m     )\n\u001b[32m    338\u001b[39m \u001b[38;5;28;01mtry\u001b[39;00m:\n\u001b[32m    339\u001b[39m     \u001b[38;5;66;03m# Create all members\u001b[39;00m\n\u001b[32m--> \u001b[39m\u001b[32m340\u001b[39m     \u001b[38;5;28;01mawait\u001b[39;00m _create_all_objects(client, running_app, app._functions, app._classes, environment_name)\n\u001b[32m    342\u001b[39m     \u001b[38;5;66;03m# Publish the app\u001b[39;00m\n\u001b[32m    343\u001b[39m     \u001b[38;5;28;01mawait\u001b[39;00m _publish_app(client, running_app, app_state, app._functions, app._classes)\n",
      "\u001b[36mFile \u001b[39m\u001b[32m~/TEMPDIRTILLMACSYNC/jax/venv/lib/python3.11/site-packages/modal/runner.py:177\u001b[39m, in \u001b[36m_create_all_objects\u001b[39m\u001b[34m(client, running_app, functions, classes, environment_name)\u001b[39m\n\u001b[32m    174\u001b[39m     \u001b[38;5;28;01melse\u001b[39;00m:\n\u001b[32m    175\u001b[39m         \u001b[38;5;28;01mraise\u001b[39;00m \u001b[38;5;167;01mRuntimeError\u001b[39;00m(\u001b[33mf\u001b[39m\u001b[33m\"\u001b[39m\u001b[33mUnexpected object \u001b[39m\u001b[38;5;132;01m{\u001b[39;00mobj.object_id\u001b[38;5;132;01m}\u001b[39;00m\u001b[33m\"\u001b[39m)\n\u001b[32m--> \u001b[39m\u001b[32m177\u001b[39m \u001b[38;5;28;01mawait\u001b[39;00m TaskContext.gather(*(_load(tag, obj) \u001b[38;5;28;01mfor\u001b[39;00m tag, obj \u001b[38;5;129;01min\u001b[39;00m indexed_objects.items()))\n",
      "\u001b[36mFile \u001b[39m\u001b[32m~/TEMPDIRTILLMACSYNC/jax/venv/lib/python3.11/site-packages/modal/_utils/async_utils.py:257\u001b[39m, in \u001b[36mTaskContext.gather\u001b[39m\u001b[34m(*coros)\u001b[39m\n\u001b[32m    228\u001b[39m \u001b[38;5;250m\u001b[39m\u001b[33;03m\"\"\"Wait for a sequence of coroutines to finish, concurrently.\u001b[39;00m\n\u001b[32m    229\u001b[39m \n\u001b[32m    230\u001b[39m \u001b[33;03mThis is similar to `asyncio.gather()`, but it uses TaskContext to cancel all remaining tasks\u001b[39;00m\n\u001b[32m   (...)\u001b[39m\u001b[32m    254\u001b[39m \u001b[33;03m```\u001b[39;00m\n\u001b[32m    255\u001b[39m \u001b[33;03m\"\"\"\u001b[39;00m\n\u001b[32m    256\u001b[39m \u001b[38;5;28;01masync\u001b[39;00m \u001b[38;5;28;01mwith\u001b[39;00m TaskContext() \u001b[38;5;28;01mas\u001b[39;00m tc:\n\u001b[32m--> \u001b[39m\u001b[32m257\u001b[39m     results = \u001b[38;5;28;01mawait\u001b[39;00m asyncio.gather(*(tc.create_task(coro) \u001b[38;5;28;01mfor\u001b[39;00m coro \u001b[38;5;129;01min\u001b[39;00m coros))\n\u001b[32m    258\u001b[39m \u001b[38;5;28;01mreturn\u001b[39;00m results\n",
      "\u001b[36mFile \u001b[39m\u001b[32m~/TEMPDIRTILLMACSYNC/jax/venv/lib/python3.11/site-packages/modal/runner.py:169\u001b[39m, in \u001b[36m_create_all_objects.<locals>._load\u001b[39m\u001b[34m(tag, obj)\u001b[39m\n\u001b[32m    167\u001b[39m \u001b[38;5;28;01masync\u001b[39;00m \u001b[38;5;28;01mdef\u001b[39;00m\u001b[38;5;250m \u001b[39m\u001b[34m_load\u001b[39m(tag, obj):\n\u001b[32m    168\u001b[39m     existing_object_id = tag_to_object_id.get(tag)\n\u001b[32m--> \u001b[39m\u001b[32m169\u001b[39m     \u001b[38;5;28;01mawait\u001b[39;00m resolver.load(obj, existing_object_id)\n\u001b[32m    170\u001b[39m     \u001b[38;5;28;01mif\u001b[39;00m _Function._is_id_type(obj.object_id):\n\u001b[32m    171\u001b[39m         running_app.function_ids[tag] = obj.object_id\n",
      "\u001b[36mFile \u001b[39m\u001b[32m~/TEMPDIRTILLMACSYNC/jax/venv/lib/python3.11/site-packages/modal/_functions.py:785\u001b[39m, in \u001b[36m_Function.from_local.<locals>._load\u001b[39m\u001b[34m(self, resolver, existing_object_id)\u001b[39m\n\u001b[32m    783\u001b[39m \u001b[38;5;28;01masync\u001b[39;00m \u001b[38;5;28;01mdef\u001b[39;00m\u001b[38;5;250m \u001b[39m\u001b[34m_load\u001b[39m(\u001b[38;5;28mself\u001b[39m: _Function, resolver: Resolver, existing_object_id: Optional[\u001b[38;5;28mstr\u001b[39m]):\n\u001b[32m    784\u001b[39m     \u001b[38;5;28;01massert\u001b[39;00m resolver.client \u001b[38;5;129;01mand\u001b[39;00m resolver.client.stub\n\u001b[32m--> \u001b[39m\u001b[32m785\u001b[39m \u001b[43m    \u001b[49m\u001b[38;5;28;43;01mwith\u001b[39;49;00m\u001b[43m \u001b[49m\u001b[43mFunctionCreationStatus\u001b[49m\u001b[43m(\u001b[49m\u001b[43mresolver\u001b[49m\u001b[43m,\u001b[49m\u001b[43m \u001b[49m\u001b[43mtag\u001b[49m\u001b[43m)\u001b[49m\u001b[43m \u001b[49m\u001b[38;5;28;43;01mas\u001b[39;49;00m\u001b[43m \u001b[49m\u001b[43mfunction_creation_status\u001b[49m\u001b[43m:\u001b[49m\n\u001b[32m    786\u001b[39m \u001b[43m        \u001b[49m\u001b[43mtimeout_secs\u001b[49m\u001b[43m \u001b[49m\u001b[43m=\u001b[49m\u001b[43m \u001b[49m\u001b[43mtimeout\u001b[49m\n\u001b[32m    788\u001b[39m \u001b[43m        \u001b[49m\u001b[38;5;28;43;01mif\u001b[39;49;00m\u001b[43m \u001b[49m\u001b[43mapp\u001b[49m\u001b[43m \u001b[49m\u001b[38;5;129;43;01mand\u001b[39;49;00m\u001b[43m \u001b[49m\u001b[43mapp\u001b[49m\u001b[43m.\u001b[49m\u001b[43mis_interactive\u001b[49m\u001b[43m \u001b[49m\u001b[38;5;129;43;01mand\u001b[39;49;00m\u001b[43m \u001b[49m\u001b[38;5;129;43;01mnot\u001b[39;49;00m\u001b[43m \u001b[49m\u001b[43mis_builder_function\u001b[49m\u001b[43m:\u001b[49m\n",
      "\u001b[36mFile \u001b[39m\u001b[32m~/TEMPDIRTILLMACSYNC/jax/venv/lib/python3.11/site-packages/modal/_utils/function_utils.py:607\u001b[39m, in \u001b[36mFunctionCreationStatus.__exit__\u001b[39m\u001b[34m(self, exc_type, exc_val, exc_tb)\u001b[39m\n\u001b[32m    605\u001b[39m \u001b[38;5;28;01mdef\u001b[39;00m\u001b[38;5;250m \u001b[39m\u001b[34m__exit__\u001b[39m(\u001b[38;5;28mself\u001b[39m, exc_type, exc_val, exc_tb):\n\u001b[32m    606\u001b[39m     \u001b[38;5;28;01mif\u001b[39;00m exc_type:\n\u001b[32m--> \u001b[39m\u001b[32m607\u001b[39m         \u001b[38;5;28;01mraise\u001b[39;00m exc_val\n\u001b[32m    609\u001b[39m     \u001b[38;5;28;01mif\u001b[39;00m \u001b[38;5;129;01mnot\u001b[39;00m \u001b[38;5;28mself\u001b[39m.response:\n\u001b[32m    610\u001b[39m         \u001b[38;5;28mself\u001b[39m.status_row.finish(\u001b[33mf\u001b[39m\u001b[33m\"\u001b[39m\u001b[33mUnknown error when creating function \u001b[39m\u001b[38;5;132;01m{\u001b[39;00m\u001b[38;5;28mself\u001b[39m.tag\u001b[38;5;132;01m}\u001b[39;00m\u001b[33m\"\u001b[39m)\n",
      "\u001b[36mFile \u001b[39m\u001b[32m~/TEMPDIRTILLMACSYNC/jax/venv/lib/python3.11/site-packages/modal/_functions.py:802\u001b[39m, in \u001b[36m_Function.from_local.<locals>._load\u001b[39m\u001b[34m(self, resolver, existing_object_id)\u001b[39m\n\u001b[32m    799\u001b[39m \u001b[38;5;66;03m# Ensure that large data in global variables does not blow up the gRPC payload,\u001b[39;00m\n\u001b[32m    800\u001b[39m \u001b[38;5;66;03m# which has maximum size 100 MiB. We set the limit lower for performance reasons.\u001b[39;00m\n\u001b[32m    801\u001b[39m \u001b[38;5;28;01mif\u001b[39;00m \u001b[38;5;28mlen\u001b[39m(function_serialized) > \u001b[32m16\u001b[39m << \u001b[32m20\u001b[39m:  \u001b[38;5;66;03m# 16 MiB\u001b[39;00m\n\u001b[32m--> \u001b[39m\u001b[32m802\u001b[39m     \u001b[38;5;28;01mraise\u001b[39;00m InvalidError(\n\u001b[32m    803\u001b[39m         \u001b[33mf\u001b[39m\u001b[33m\"\u001b[39m\u001b[33mFunction \u001b[39m\u001b[38;5;132;01m{\u001b[39;00minfo.raw_f\u001b[38;5;132;01m}\u001b[39;00m\u001b[33m has size \u001b[39m\u001b[38;5;132;01m{\u001b[39;00m\u001b[38;5;28mlen\u001b[39m(function_serialized)\u001b[38;5;132;01m}\u001b[39;00m\u001b[33m bytes when packaged. \u001b[39m\u001b[33m\"\u001b[39m\n\u001b[32m    804\u001b[39m         \u001b[33m\"\u001b[39m\u001b[33mThis is larger than the maximum limit of 16 MiB. \u001b[39m\u001b[33m\"\u001b[39m\n\u001b[32m    805\u001b[39m         \u001b[33m\"\u001b[39m\u001b[33mTry reducing the size of the closure by using parameters or mounts, \u001b[39m\u001b[33m\"\u001b[39m\n\u001b[32m    806\u001b[39m         \u001b[33m\"\u001b[39m\u001b[33mnot large global variables.\u001b[39m\u001b[33m\"\u001b[39m\n\u001b[32m    807\u001b[39m     )\n\u001b[32m    808\u001b[39m \u001b[38;5;28;01melif\u001b[39;00m \u001b[38;5;28mlen\u001b[39m(function_serialized) > \u001b[32m256\u001b[39m << \u001b[32m10\u001b[39m:  \u001b[38;5;66;03m# 256 KiB\u001b[39;00m\n\u001b[32m    809\u001b[39m     warnings.warn(\n\u001b[32m    810\u001b[39m         \u001b[33mf\u001b[39m\u001b[33m\"\u001b[39m\u001b[33mFunction \u001b[39m\u001b[38;5;132;01m{\u001b[39;00minfo.raw_f\u001b[38;5;132;01m}\u001b[39;00m\u001b[33m has size \u001b[39m\u001b[38;5;132;01m{\u001b[39;00m\u001b[38;5;28mlen\u001b[39m(function_serialized)\u001b[38;5;132;01m}\u001b[39;00m\u001b[33m bytes when packaged. \u001b[39m\u001b[33m\"\u001b[39m\n\u001b[32m    811\u001b[39m         \u001b[33m\"\u001b[39m\u001b[33mThis is larger than the recommended limit of 256 KiB. \u001b[39m\u001b[33m\"\u001b[39m\n\u001b[32m    812\u001b[39m         \u001b[33m\"\u001b[39m\u001b[33mTry reducing the size of the closure by using parameters or mounts, \u001b[39m\u001b[33m\"\u001b[39m\n\u001b[32m    813\u001b[39m         \u001b[33m\"\u001b[39m\u001b[33mnot large global variables.\u001b[39m\u001b[33m\"\u001b[39m\n\u001b[32m    814\u001b[39m     )\n",
      "\u001b[31mInvalidError\u001b[39m: Function <function modal_train at 0x12e879c60> has size 190576541 bytes when packaged. This is larger than the maximum limit of 16 MiB. Try reducing the size of the closure by using parameters or mounts, not large global variables."
     ]
    }
   ],
   "source": [
    "import modal\n",
    "\n",
    "app = modal.App(\"learning-jax\")\n",
    "\n",
    "@app.function()\n",
    "def modal_train(X_train, y_train):\n",
    "    params = train(create_params(layers), X_train, y_train)\n",
    "    return params\n",
    "\n",
    "\n",
    "with modal.enable_output():\n",
    "    with app.run():\n",
    "        # my_function.remote(42)\n",
    "        params = modal_train.remote(X_train, y_train)\n"
   ]
  },
  {
   "cell_type": "code",
   "execution_count": null,
   "id": "afbc7c47-5515-45a2-939b-a086b5784c18",
   "metadata": {},
   "outputs": [],
   "source": [
    "params = train(create_params(layers))"
   ]
  },
  {
   "cell_type": "code",
   "execution_count": 9,
   "id": "685c61ff-89b3-48eb-b022-fa4812fde2ca",
   "metadata": {},
   "outputs": [
    {
     "data": {
      "text/plain": [
       "Array(3.8788896, dtype=float32)"
      ]
     },
     "execution_count": 9,
     "metadata": {},
     "output_type": "execute_result"
    }
   ],
   "source": [
    "loss(params, X_train, y_train)"
   ]
  },
  {
   "cell_type": "code",
   "execution_count": null,
   "id": "ac3a1f5f-ad4a-49f1-afa4-5329307c3700",
   "metadata": {},
   "outputs": [],
   "source": []
  },
  {
   "cell_type": "code",
   "execution_count": null,
   "id": "46bf8c7a-0ee9-4d59-9282-a5dbfd8fc80a",
   "metadata": {},
   "outputs": [],
   "source": []
  }
 ],
 "metadata": {
  "kernelspec": {
   "display_name": "Python 3 (ipykernel)",
   "language": "python",
   "name": "python3"
  },
  "language_info": {
   "codemirror_mode": {
    "name": "ipython",
    "version": 3
   },
   "file_extension": ".py",
   "mimetype": "text/x-python",
   "name": "python",
   "nbconvert_exporter": "python",
   "pygments_lexer": "ipython3",
   "version": "3.11.11"
  }
 },
 "nbformat": 4,
 "nbformat_minor": 5
}
