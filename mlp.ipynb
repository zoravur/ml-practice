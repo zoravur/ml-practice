{
 "cells": [
  {
   "cell_type": "markdown",
   "id": "3435f5dc-4269-43ca-9747-0d1e33f8ba37",
   "metadata": {},
   "source": [
    "# Multilayer Perceptron (MNIST)\n",
    "\n",
    "for a multilayer perceptron (mlp), the objective is to minimize a loss function over the dataset. assuming supervised learning with input–label pairs $(x_i, y_i)$, the generic minimization problem is:\n",
    "\n",
    "$$\n",
    "\\min_\\theta \\frac{1}{N} \\sum_{i=1}^N \\mathcal{L}(f_\\theta(x_i), y_i)\n",
    "$$\n",
    "\n",
    "where:\n",
    "\n",
    "* $f_\\theta(x)$ is the output of the MLP with parameters $\\theta$ (weights + biases across all layers),\n",
    "* $\\mathcal{L}(\\cdot, \\cdot)$ is the loss function, e.g. mean squared error (MSE), cross-entropy, etc.,\n",
    "* $N$ is the number of training samples.\n",
    "\n",
    "---\n",
    "\n",
    "**for regression (MSE loss):**\n",
    "\n",
    "$$\n",
    "\\mathcal{L}(f_\\theta(x), y) = \\|f_\\theta(x) - y\\|^2\n",
    "$$\n",
    "\n",
    "**for binary classification (sigmoid output + binary cross entropy):**\n",
    "$$\n",
    "\\mathcal{L}(f_\\theta(x), y) = -y \\log f_\\theta(x) - (1 - y) \\log(1 - f_\\theta(x))\n",
    "$$\n",
    "\n",
    "**for multiclass classification (softmax + cross entropy):**\n",
    "\n",
    "$$\n",
    "\\mathcal{L}(f_\\theta(x), y) = -\\sum_{k=1}^K y_k \\log \\left( \\text{softmax}(f_\\theta(x))_k \\right)\n",
    "$$\n",
    "\n",
    "---\n",
    "\n",
    "the MLP itself is defined recursively:\n",
    "\n",
    "$$\n",
    "\\begin{aligned}\n",
    "h^{(0)} &= x \\\\\n",
    "h^{(l)} &= \\sigma(W^{(l)} h^{(l-1)} + b^{(l)}), \\quad l = 1, \\dots, L-1 \\\\\n",
    "f_\\theta(x) &= W^{(L)} h^{(L-1)} + b^{(L)} \\quad \\text{(or apply output activation)}\n",
    "\\end{aligned}\n",
    "$$\n",
    "\n",
    "where:\n",
    "\n",
    "* $\\sigma$ is an activation function (ReLU, tanh, etc.),\n",
    "* $\\theta = \\{W^{(l)}, b^{(l)}\\}_{l=1}^L$.\n",
    "\n",
    "---\n",
    "\n",
    "you can add regularization if desired:\n",
    "\n",
    "$$\n",
    "\\min_\\theta \\frac{1}{N} \\sum_{i=1}^N \\mathcal{L}(f_\\theta(x_i), y_i) + \\lambda \\|\\theta\\|^2\n",
    "$$"
   ]
  },
  {
   "cell_type": "code",
   "execution_count": 12,
   "id": "f69e6b2f-e350-4ba3-93ed-db529c93417f",
   "metadata": {},
   "outputs": [],
   "source": [
    "# Imports\n",
    "# import os\n",
    "# os.environ[\"JAX_PLATFORM_NAME\"] = \"METAL\"          # before importing jax\n",
    "# os.environ[\"JAX_PLATFORMS\"] = \"metal,cpu\"        # allow cpu fallback for missing op\n",
    "import jax\n",
    "import jax.numpy as jnp\n",
    "import matplotlib.pyplot as plt\n",
    "import pandas as pd\n",
    "\n",
    "# For image processing\n",
    "from io import BytesIO\n",
    "from PIL import Image\n",
    "import matplotlib.pyplot as plt\n",
    "import numpy as np"
   ]
  },
  {
   "cell_type": "code",
   "execution_count": 13,
   "id": "552d5e18-ae80-46f1-bcb8-b0e774485a18",
   "metadata": {},
   "outputs": [
    {
     "data": {
      "text/plain": [
       "[CudaDevice(id=0)]"
      ]
     },
     "execution_count": 13,
     "metadata": {},
     "output_type": "execute_result"
    }
   ],
   "source": [
    "jax.devices()"
   ]
  },
  {
   "cell_type": "code",
   "execution_count": 14,
   "id": "6af10f5c-1de1-4477-b9db-20e83617b165",
   "metadata": {},
   "outputs": [
    {
     "data": {
      "text/html": [
       "<div>\n",
       "<style scoped>\n",
       "    .dataframe tbody tr th:only-of-type {\n",
       "        vertical-align: middle;\n",
       "    }\n",
       "\n",
       "    .dataframe tbody tr th {\n",
       "        vertical-align: top;\n",
       "    }\n",
       "\n",
       "    .dataframe thead th {\n",
       "        text-align: right;\n",
       "    }\n",
       "</style>\n",
       "<table border=\"1\" class=\"dataframe\">\n",
       "  <thead>\n",
       "    <tr style=\"text-align: right;\">\n",
       "      <th></th>\n",
       "      <th>image</th>\n",
       "      <th>label</th>\n",
       "    </tr>\n",
       "  </thead>\n",
       "  <tbody>\n",
       "    <tr>\n",
       "      <th>0</th>\n",
       "      <td>{'bytes': b'\\x89PNG\\r\\n\\x1a\\n\\x00\\x00\\x00\\rIHD...</td>\n",
       "      <td>5</td>\n",
       "    </tr>\n",
       "    <tr>\n",
       "      <th>1</th>\n",
       "      <td>{'bytes': b'\\x89PNG\\r\\n\\x1a\\n\\x00\\x00\\x00\\rIHD...</td>\n",
       "      <td>0</td>\n",
       "    </tr>\n",
       "    <tr>\n",
       "      <th>2</th>\n",
       "      <td>{'bytes': b'\\x89PNG\\r\\n\\x1a\\n\\x00\\x00\\x00\\rIHD...</td>\n",
       "      <td>4</td>\n",
       "    </tr>\n",
       "    <tr>\n",
       "      <th>3</th>\n",
       "      <td>{'bytes': b\"\\x89PNG\\r\\n\\x1a\\n\\x00\\x00\\x00\\rIHD...</td>\n",
       "      <td>1</td>\n",
       "    </tr>\n",
       "    <tr>\n",
       "      <th>4</th>\n",
       "      <td>{'bytes': b'\\x89PNG\\r\\n\\x1a\\n\\x00\\x00\\x00\\rIHD...</td>\n",
       "      <td>9</td>\n",
       "    </tr>\n",
       "    <tr>\n",
       "      <th>...</th>\n",
       "      <td>...</td>\n",
       "      <td>...</td>\n",
       "    </tr>\n",
       "    <tr>\n",
       "      <th>59995</th>\n",
       "      <td>{'bytes': b'\\x89PNG\\r\\n\\x1a\\n\\x00\\x00\\x00\\rIHD...</td>\n",
       "      <td>8</td>\n",
       "    </tr>\n",
       "    <tr>\n",
       "      <th>59996</th>\n",
       "      <td>{'bytes': b'\\x89PNG\\r\\n\\x1a\\n\\x00\\x00\\x00\\rIHD...</td>\n",
       "      <td>3</td>\n",
       "    </tr>\n",
       "    <tr>\n",
       "      <th>59997</th>\n",
       "      <td>{'bytes': b'\\x89PNG\\r\\n\\x1a\\n\\x00\\x00\\x00\\rIHD...</td>\n",
       "      <td>5</td>\n",
       "    </tr>\n",
       "    <tr>\n",
       "      <th>59998</th>\n",
       "      <td>{'bytes': b'\\x89PNG\\r\\n\\x1a\\n\\x00\\x00\\x00\\rIHD...</td>\n",
       "      <td>6</td>\n",
       "    </tr>\n",
       "    <tr>\n",
       "      <th>59999</th>\n",
       "      <td>{'bytes': b'\\x89PNG\\r\\n\\x1a\\n\\x00\\x00\\x00\\rIHD...</td>\n",
       "      <td>8</td>\n",
       "    </tr>\n",
       "  </tbody>\n",
       "</table>\n",
       "<p>60000 rows × 2 columns</p>\n",
       "</div>"
      ],
      "text/plain": [
       "                                                   image  label\n",
       "0      {'bytes': b'\\x89PNG\\r\\n\\x1a\\n\\x00\\x00\\x00\\rIHD...      5\n",
       "1      {'bytes': b'\\x89PNG\\r\\n\\x1a\\n\\x00\\x00\\x00\\rIHD...      0\n",
       "2      {'bytes': b'\\x89PNG\\r\\n\\x1a\\n\\x00\\x00\\x00\\rIHD...      4\n",
       "3      {'bytes': b\"\\x89PNG\\r\\n\\x1a\\n\\x00\\x00\\x00\\rIHD...      1\n",
       "4      {'bytes': b'\\x89PNG\\r\\n\\x1a\\n\\x00\\x00\\x00\\rIHD...      9\n",
       "...                                                  ...    ...\n",
       "59995  {'bytes': b'\\x89PNG\\r\\n\\x1a\\n\\x00\\x00\\x00\\rIHD...      8\n",
       "59996  {'bytes': b'\\x89PNG\\r\\n\\x1a\\n\\x00\\x00\\x00\\rIHD...      3\n",
       "59997  {'bytes': b'\\x89PNG\\r\\n\\x1a\\n\\x00\\x00\\x00\\rIHD...      5\n",
       "59998  {'bytes': b'\\x89PNG\\r\\n\\x1a\\n\\x00\\x00\\x00\\rIHD...      6\n",
       "59999  {'bytes': b'\\x89PNG\\r\\n\\x1a\\n\\x00\\x00\\x00\\rIHD...      8\n",
       "\n",
       "[60000 rows x 2 columns]"
      ]
     },
     "execution_count": 14,
     "metadata": {},
     "output_type": "execute_result"
    }
   ],
   "source": [
    "df = pd.read_parquet('data/mnist_train.parquet')\n",
    "df"
   ]
  },
  {
   "cell_type": "code",
   "execution_count": 15,
   "id": "5111f6e3-db56-4328-bf82-9b76374c3d3a",
   "metadata": {},
   "outputs": [
    {
     "data": {
      "text/html": [
       "<div>\n",
       "<style scoped>\n",
       "    .dataframe tbody tr th:only-of-type {\n",
       "        vertical-align: middle;\n",
       "    }\n",
       "\n",
       "    .dataframe tbody tr th {\n",
       "        vertical-align: top;\n",
       "    }\n",
       "\n",
       "    .dataframe thead th {\n",
       "        text-align: right;\n",
       "    }\n",
       "</style>\n",
       "<table border=\"1\" class=\"dataframe\">\n",
       "  <thead>\n",
       "    <tr style=\"text-align: right;\">\n",
       "      <th></th>\n",
       "      <th>image</th>\n",
       "      <th>label</th>\n",
       "    </tr>\n",
       "  </thead>\n",
       "  <tbody>\n",
       "    <tr>\n",
       "      <th>0</th>\n",
       "      <td>{'bytes': b'\\x89PNG\\r\\n\\x1a\\n\\x00\\x00\\x00\\rIHD...</td>\n",
       "      <td>5</td>\n",
       "    </tr>\n",
       "    <tr>\n",
       "      <th>1</th>\n",
       "      <td>{'bytes': b'\\x89PNG\\r\\n\\x1a\\n\\x00\\x00\\x00\\rIHD...</td>\n",
       "      <td>0</td>\n",
       "    </tr>\n",
       "    <tr>\n",
       "      <th>2</th>\n",
       "      <td>{'bytes': b'\\x89PNG\\r\\n\\x1a\\n\\x00\\x00\\x00\\rIHD...</td>\n",
       "      <td>4</td>\n",
       "    </tr>\n",
       "    <tr>\n",
       "      <th>3</th>\n",
       "      <td>{'bytes': b\"\\x89PNG\\r\\n\\x1a\\n\\x00\\x00\\x00\\rIHD...</td>\n",
       "      <td>1</td>\n",
       "    </tr>\n",
       "    <tr>\n",
       "      <th>4</th>\n",
       "      <td>{'bytes': b'\\x89PNG\\r\\n\\x1a\\n\\x00\\x00\\x00\\rIHD...</td>\n",
       "      <td>9</td>\n",
       "    </tr>\n",
       "    <tr>\n",
       "      <th>...</th>\n",
       "      <td>...</td>\n",
       "      <td>...</td>\n",
       "    </tr>\n",
       "    <tr>\n",
       "      <th>59995</th>\n",
       "      <td>{'bytes': b'\\x89PNG\\r\\n\\x1a\\n\\x00\\x00\\x00\\rIHD...</td>\n",
       "      <td>8</td>\n",
       "    </tr>\n",
       "    <tr>\n",
       "      <th>59996</th>\n",
       "      <td>{'bytes': b'\\x89PNG\\r\\n\\x1a\\n\\x00\\x00\\x00\\rIHD...</td>\n",
       "      <td>3</td>\n",
       "    </tr>\n",
       "    <tr>\n",
       "      <th>59997</th>\n",
       "      <td>{'bytes': b'\\x89PNG\\r\\n\\x1a\\n\\x00\\x00\\x00\\rIHD...</td>\n",
       "      <td>5</td>\n",
       "    </tr>\n",
       "    <tr>\n",
       "      <th>59998</th>\n",
       "      <td>{'bytes': b'\\x89PNG\\r\\n\\x1a\\n\\x00\\x00\\x00\\rIHD...</td>\n",
       "      <td>6</td>\n",
       "    </tr>\n",
       "    <tr>\n",
       "      <th>59999</th>\n",
       "      <td>{'bytes': b'\\x89PNG\\r\\n\\x1a\\n\\x00\\x00\\x00\\rIHD...</td>\n",
       "      <td>8</td>\n",
       "    </tr>\n",
       "  </tbody>\n",
       "</table>\n",
       "<p>60000 rows × 2 columns</p>\n",
       "</div>"
      ],
      "text/plain": [
       "                                                   image  label\n",
       "0      {'bytes': b'\\x89PNG\\r\\n\\x1a\\n\\x00\\x00\\x00\\rIHD...      5\n",
       "1      {'bytes': b'\\x89PNG\\r\\n\\x1a\\n\\x00\\x00\\x00\\rIHD...      0\n",
       "2      {'bytes': b'\\x89PNG\\r\\n\\x1a\\n\\x00\\x00\\x00\\rIHD...      4\n",
       "3      {'bytes': b\"\\x89PNG\\r\\n\\x1a\\n\\x00\\x00\\x00\\rIHD...      1\n",
       "4      {'bytes': b'\\x89PNG\\r\\n\\x1a\\n\\x00\\x00\\x00\\rIHD...      9\n",
       "...                                                  ...    ...\n",
       "59995  {'bytes': b'\\x89PNG\\r\\n\\x1a\\n\\x00\\x00\\x00\\rIHD...      8\n",
       "59996  {'bytes': b'\\x89PNG\\r\\n\\x1a\\n\\x00\\x00\\x00\\rIHD...      3\n",
       "59997  {'bytes': b'\\x89PNG\\r\\n\\x1a\\n\\x00\\x00\\x00\\rIHD...      5\n",
       "59998  {'bytes': b'\\x89PNG\\r\\n\\x1a\\n\\x00\\x00\\x00\\rIHD...      6\n",
       "59999  {'bytes': b'\\x89PNG\\r\\n\\x1a\\n\\x00\\x00\\x00\\rIHD...      8\n",
       "\n",
       "[60000 rows x 2 columns]"
      ]
     },
     "execution_count": 15,
     "metadata": {},
     "output_type": "execute_result"
    }
   ],
   "source": [
    "def show_image(byte_str):    \n",
    "    img = Image.open(BytesIO(byte_str))\n",
    "    plt.imshow(img)\n",
    "    plt.axis('off')\n",
    "    plt.show()\n",
    "\n",
    "# show_image(df['image'][2]['bytes']), df['label'][2]\n",
    "\n",
    "df"
   ]
  },
  {
   "cell_type": "code",
   "execution_count": 16,
   "id": "bbda6814-8fb7-49a7-9482-e514ab7e7a7a",
   "metadata": {},
   "outputs": [
    {
     "data": {
      "text/plain": [
       "((60000, 784), (60000, 10))"
      ]
     },
     "execution_count": 16,
     "metadata": {},
     "output_type": "execute_result"
    }
   ],
   "source": [
    "def bytes_dict_to_jax_array(d):\n",
    "    img = Image.open(BytesIO(d['bytes']))\n",
    "    return jnp.array(img)\n",
    "\n",
    "def preprocess_df(df):\n",
    "    df = df.copy()\n",
    "    df['image'] = df['image'].map(bytes_dict_to_jax_array)\n",
    "    X, y = jnp.stack(df['image'].tolist()), jax.nn.one_hot(df['label'], 10)\n",
    "    X = X.reshape(X.shape[0], -1) / 255\n",
    "    return X, y\n",
    "\n",
    "X_train, y_train = preprocess_df(df)\n",
    "X_train.shape, y_train.shape"
   ]
  },
  {
   "cell_type": "code",
   "execution_count": 17,
   "id": "d801a69f-fa66-4615-8daa-09a49b723603",
   "metadata": {},
   "outputs": [
    {
     "data": {
      "text/plain": [
       "[((128, 784), (128, 1)), ((64, 128), (64, 1)), ((10, 64), (10, 1))]"
      ]
     },
     "execution_count": 17,
     "metadata": {},
     "output_type": "execute_result"
    }
   ],
   "source": [
    "def create_params(layers):\n",
    "    key = jax.random.key(42)\n",
    "    def create_matrix_and_bias(n, m, key):\n",
    "        k1, k2 = jax.random.split(key)\n",
    "        return jax.random.normal(k1, (m, n)), jax.random.normal(k2, (m, 1))\n",
    "    \n",
    "    params = list(map(create_matrix_and_bias, layers, layers[1:], jax.random.split(jax.random.key(42), len(layers)-1)))\n",
    "    return params\n",
    "\n",
    "layers = [X_train.shape[1], 128, 64, 10]\n",
    "jax.tree.map(lambda p: p.shape, create_params(layers))"
   ]
  },
  {
   "cell_type": "code",
   "execution_count": 18,
   "id": "8307929e-91f5-4850-9746-414a52cd52c1",
   "metadata": {},
   "outputs": [],
   "source": [
    "@jax.jit\n",
    "def fwd(params, X):\n",
    "    h = X.T\n",
    "    for W, b in params:\n",
    "        l = W @ h + b\n",
    "        h = jax.nn.relu(l)\n",
    "    return l.T # do not relu last layer\n",
    "\n",
    "# fwd(params, X_train).shape, y_train.shape\n",
    "@jax.jit\n",
    "def loss(params, X, y):\n",
    "    logits = fwd(params, X)\n",
    "    return -jnp.mean(jnp.sum(y*jax.nn.log_softmax(logits), axis=1))"
   ]
  },
  {
   "cell_type": "code",
   "execution_count": 19,
   "id": "ab61df64-7302-498a-b280-a634a395b576",
   "metadata": {},
   "outputs": [],
   "source": [
    "grad_loss = jax.jit(jax.grad(loss))\n",
    "\n",
    "@jax.jit\n",
    "def train(params, X_train, y_train):\n",
    "    lr = 0.001\n",
    "\n",
    "    def body(i, params):\n",
    "        params = jax.tree.map(lambda param, grad: param - lr * grad, params, grad_loss(params, X_train, y_train))\n",
    "        # params = [param - lr * grad for param, grad in zip(params, grad_loss(params, X_train, y_train))]\n",
    "        # params -= lr * grad_loss(params, X_train, y_train)\n",
    "\n",
    "        def do_print(_):\n",
    "            jax.debug.print(\"step {i}, loss: {l}\", i=i, l=loss(params, X_train, y_train))\n",
    "            return None\n",
    "\n",
    "        _ = jax.lax.cond(i % 100 == 0, do_print, lambda _: None, operand=None)\n",
    "        return params\n",
    "\n",
    "    params = jax.lax.fori_loop(0, 30000, body, params)\n",
    "    return params\n",
    "\n",
    "params = train(create_params(layers), X_train, y_train)"
   ]
  },
  {
   "cell_type": "code",
   "execution_count": 20,
   "id": "685c61ff-89b3-48eb-b022-fa4812fde2ca",
   "metadata": {},
   "outputs": [
    {
     "ename": "NameError",
     "evalue": "name 'params' is not defined",
     "output_type": "error",
     "traceback": [
      "\u001b[31m---------------------------------------------------------------------------\u001b[39m",
      "\u001b[31mNameError\u001b[39m                                 Traceback (most recent call last)",
      "\u001b[36mCell\u001b[39m\u001b[36m \u001b[39m\u001b[32mIn[20]\u001b[39m\u001b[32m, line 1\u001b[39m\n\u001b[32m----> \u001b[39m\u001b[32m1\u001b[39m loss(\u001b[43mparams\u001b[49m, X_train, y_train)\n",
      "\u001b[31mNameError\u001b[39m: name 'params' is not defined"
     ]
    }
   ],
   "source": [
    "loss(params, X_train, y_train)"
   ]
  },
  {
   "cell_type": "code",
   "execution_count": null,
   "id": "ac3a1f5f-ad4a-49f1-afa4-5329307c3700",
   "metadata": {},
   "outputs": [],
   "source": [
    "X_test, y_test = preprocess_df(pd.read_parquet('data/mnist_test.parquet'))"
   ]
  },
  {
   "cell_type": "code",
   "execution_count": null,
   "id": "46bf8c7a-0ee9-4d59-9282-a5dbfd8fc80a",
   "metadata": {},
   "outputs": [],
   "source": [
    "# compute accuracy\n",
    "(jax.nn.one_hot(jnp.argmax(fwd(params, X_test),axis=1), 10) * y_test).sum() / y_test.shape[0]"
   ]
  },
  {
   "cell_type": "code",
   "execution_count": null,
   "id": "1ca414b1-b2aa-43ef-a37c-82681c1496ca",
   "metadata": {},
   "outputs": [],
   "source": [
    "# Accuracy is bad. Let's try rescaling inputs per pixel to have mean 0 and stddev 1.\n",
    "def rescale_inputs(X, mu=None, sigma=None, eps=0.0001):\n",
    "    if mu is None:\n",
    "        mu = jnp.mean(X)\n",
    "    if sigma is None:\n",
    "        sigma = jnp.std(X)\n",
    "    return (X - mu) / (sigma+eps), mu, sigma\n",
    "\n",
    "X_train, mu, sigma = rescale_inputs(X_train)\n",
    "params2 = train(create_params(layers), X_train, y_train)"
   ]
  },
  {
   "cell_type": "code",
   "execution_count": null,
   "id": "3c323062-5a9d-417e-ae1b-af274542638b",
   "metadata": {},
   "outputs": [],
   "source": [
    "# compute accuracy again\n",
    "(jax.nn.one_hot(jnp.argmax(fwd(params2, rescale_inputs(X_test, mu, sigma)[0]),axis=1), 10) * y_test).sum() / y_test.shape[0]"
   ]
  },
  {
   "cell_type": "code",
   "execution_count": null,
   "id": "838f5325-529d-474c-a4cd-016507e2fa1e",
   "metadata": {},
   "outputs": [],
   "source": [
    "# didn't work! let's try training with mini-batches instead of the entire training set.\n",
    "def get_batches(X, y, key, batch_size):\n",
    "    num_examples = X.shape[0]\n",
    "    perm = jax.random.permutation(key, num_examples)\n",
    "    X = X[perm]\n",
    "    y = y[perm]\n",
    "\n",
    "    for batch_num in range(num_examples // batch_size):\n",
    "        yield X[batch_num*batch_size:(batch_num+1)*batch_size], y[batch_num*batch_size:(batch_num+1)*batch_size]\n",
    "\n",
    "@jax.jit\n",
    "def train_batched(params, X, y, key, batch_size=64, num_epochs=10):\n",
    "    lr = 0.001\n",
    "    keys = jax.random.split(key, num_epochs)\n",
    "\n",
    "    # def body(i, params):\n",
    "    for i in range(num_epochs):\n",
    "        for bX, by in get_batches(X, y, keys[i], batch_size):\n",
    "            params = jax.tree.map(lambda param, grad: param - lr * grad, params, grad_loss(params, X_train, y_train))\n",
    "\n",
    "        jax.debug.print(\"loss: {l}\", l=loss(params, X, y))\n",
    "        # print(f\"loss: {loss(params, X, y)}\")\n",
    "        # return params\n",
    "\n",
    "    # params = jax.lax.fori_loop(0, num_epochs, body, params)\n",
    "    return params"
   ]
  },
  {
   "cell_type": "code",
   "execution_count": null,
   "id": "13f1811b-f93f-4c5d-ad27-8c967e860277",
   "metadata": {},
   "outputs": [],
   "source": [
    "params = train_batched(create_params(layers), X_train, y_train, jax.random.key(69))"
   ]
  },
  {
   "cell_type": "code",
   "execution_count": null,
   "id": "affd7c78-8e54-443b-bed8-c813c38c438b",
   "metadata": {},
   "outputs": [],
   "source": [
    "def get_epoch_batches(X, y, key, batch_size):\n",
    "    num = (X.shape[0] // batch_size) * batch_size\n",
    "    perm = jax.random.permutation(key, X.shape[0])[:num]\n",
    "    X, y = X[perm], y[perm]\n",
    "    X = X.reshape(-1, batch_size, *X.shape[1:])\n",
    "    y = y.reshape(-1, batch_size, *y.shape[1:])\n",
    "    return X, y\n",
    "    \n",
    "def init_adam(params):\n",
    "    m = jax.tree_util.tree_map(jnp.zeros_like, params)\n",
    "    v = jax.tree_util.tree_map(jnp.zeros_like, params)\n",
    "    t = jax.tree_util.tree_map(jnp.zeros_like, params)\n",
    "    return params, m, v, t\n",
    "\n",
    "# *gasp* Adam!\n",
    "def adam_update_single(params, m, v, t, g, lr=1e-3, b1=0.9, b2=0.999, eps=1e-8):\n",
    "    t_new = t + 1\n",
    "    \n",
    "    # 1. Update the biased first and second moment estimates (the state).\n",
    "    m_new = b1 * m + (1 - b1) * g\n",
    "    v_new = b2 * v + (1 - b2) * jnp.square(g)\n",
    "\n",
    "    # 2. Compute the bias-corrected estimates (temporary values for this step).\n",
    "    m_hat = m_new / (1 - b1**t_new)\n",
    "    v_hat = v_new / (1 - b2**t_new)\n",
    "    \n",
    "    # 3. Update the parameters using the bias-corrected estimates.\n",
    "    params_new = params - lr * m_hat / (jnp.sqrt(v_hat) + eps)\n",
    "    \n",
    "    # 4. Return the new parameters and the updated RAW moments for the next state.\n",
    "    return params_new, m_new, v_new, t_new\n",
    "    \n",
    "@jax.jit\n",
    "def adam_update(params, m, v, t, g, lr=1e-3, b1=0.9, b2=0.999, eps=1e-8):\n",
    "    tree = jax.tree.map(lambda params, m, v, t, g: adam_update_single(params, m, v, t, g, lr, b1, b2, eps), params, m, v, t, g)\n",
    "    return jax.tree.transpose(jax.tree.structure(params), jax.tree.structure(('*', '*', '*', '*')), tree)\n",
    "\n",
    "def train_adam(X, y, key, init_params, batch_size=64, num_epochs=10):\n",
    "    keys = jax.random.split(key, num_epochs)\n",
    "    params, m, v, t = init_adam(init_params)\n",
    "\n",
    "    def epoch_step(i, opt_state):\n",
    "        params, m, v, t = opt_state\n",
    "        bX, by = get_epoch_batches(X, y, keys[i], batch_size)\n",
    "\n",
    "        def batch_step(opt_state, batch):\n",
    "            p, m, v, t = opt_state\n",
    "            Xb, yb = batch\n",
    "            return adam_update(p, m, v, t, grad_loss(p, Xb, yb)), None\n",
    "\n",
    "        (params_, m_, v_, t_), _ = jax.lax.scan(batch_step, (params, m, v, t), (bX, by))\n",
    "        jax.debug.print(\"epoch {i}, loss: {l}\", i=i, l=loss(params_, X, y))\n",
    "        return params_, m_, v_, t_\n",
    "\n",
    "    params, m, v, t = jax.lax.fori_loop(0, num_epochs, epoch_step, (params, m, v, t))\n",
    "    return params\n"
   ]
  },
  {
   "cell_type": "code",
   "execution_count": null,
   "id": "4de98b52-e61e-4bc7-b94b-318d6d2cdef4",
   "metadata": {},
   "outputs": [],
   "source": [
    "params = train_adam(X_train, y_train, jax.random.key(66), create_params(layers), num_epochs=1000)"
   ]
  },
  {
   "cell_type": "code",
   "execution_count": null,
   "id": "22fd4dd8-e3e8-42d4-8f47-4f7f748f0de6",
   "metadata": {},
   "outputs": [],
   "source": [
    "(jax.nn.one_hot(jnp.argmax(fwd(params, X_test) ,axis=1), 10) * y_test).sum() / y_test.shape[0]"
   ]
  },
  {
   "cell_type": "code",
   "execution_count": null,
   "id": "f27bc50c-a1e8-4acd-97c8-c462e0b6eeab",
   "metadata": {},
   "outputs": [],
   "source": []
  },
  {
   "cell_type": "code",
   "execution_count": null,
   "id": "8a212e21-725a-4f18-813c-c672785a13a2",
   "metadata": {},
   "outputs": [],
   "source": []
  },
  {
   "cell_type": "code",
   "execution_count": null,
   "id": "1859abb4-98d9-40dc-a44e-4c6479eae72d",
   "metadata": {},
   "outputs": [],
   "source": []
  }
 ],
 "metadata": {
  "kernelspec": {
   "display_name": "Python 3 (ipykernel)",
   "language": "python",
   "name": "python3"
  },
  "language_info": {
   "codemirror_mode": {
    "name": "ipython",
    "version": 3
   },
   "file_extension": ".py",
   "mimetype": "text/x-python",
   "name": "python",
   "nbconvert_exporter": "python",
   "pygments_lexer": "ipython3",
   "version": "3.12.5"
  }
 },
 "nbformat": 4,
 "nbformat_minor": 5
}
