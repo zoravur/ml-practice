{
 "cells": [
  {
   "cell_type": "code",
   "execution_count": 1,
   "id": "bc065933-6f10-4597-8e58-dd0bab2edb55",
   "metadata": {},
   "outputs": [],
   "source": [
    "import numpy as np"
   ]
  },
  {
   "cell_type": "code",
   "execution_count": 10,
   "id": "53d486c9-3c4d-418e-a3a1-5acf0188a9ce",
   "metadata": {},
   "outputs": [
    {
     "name": "stdout",
     "output_type": "stream",
     "text": [
      "[[ 0.2267136  -0.6396643 ]\n",
      " [-1.06351498  0.87765226]\n",
      " [-2.08166702  0.60035832]]\n"
     ]
    },
    {
     "data": {
      "text/plain": [
       "array([[ 0.2267136 , -0.6396643 ],\n",
       "       [-2.12702996,  1.75530451],\n",
       "       [-6.24500106,  1.80107497]])"
      ]
     },
     "execution_count": 10,
     "metadata": {},
     "output_type": "execute_result"
    }
   ],
   "source": [
    "# Broadcasting practice\n",
    "a = np.random.randn(3,2)\n",
    "print(a)\n",
    "b = np.array([[1],[2],[3]])\n",
    "a * b"
   ]
  },
  {
   "cell_type": "code",
   "execution_count": 14,
   "id": "93f4cf14-1e6b-411a-b85f-bd3f9e0be145",
   "metadata": {},
   "outputs": [
    {
     "name": "stdout",
     "output_type": "stream",
     "text": [
      "[-0.02861919  0.15974637 -1.45931489]\n",
      "[2]\n"
     ]
    },
    {
     "data": {
      "text/plain": [
       "array([-0.05723839,  0.31949274, -2.91862977])"
      ]
     },
     "execution_count": 14,
     "metadata": {},
     "output_type": "execute_result"
    }
   ],
   "source": [
    "a = np.random.randn(3)\n",
    "print(a)\n",
    "b = np.array([2])\n",
    "print(b)\n",
    "a * b"
   ]
  },
  {
   "cell_type": "code",
   "execution_count": 18,
   "id": "0aeff930-4bec-400b-82ea-2d6268b50002",
   "metadata": {},
   "outputs": [
    {
     "data": {
      "text/plain": [
       "(1, 1)"
      ]
     },
     "execution_count": 18,
     "metadata": {},
     "output_type": "execute_result"
    }
   ],
   "source": [
    "np.array([[2]]).shape"
   ]
  },
  {
   "cell_type": "code",
   "execution_count": null,
   "id": "9d3558df-cc0d-420d-99e8-76b979a1da7f",
   "metadata": {},
   "outputs": [],
   "source": []
  }
 ],
 "metadata": {
  "kernelspec": {
   "display_name": "Python 3 (ipykernel)",
   "language": "python",
   "name": "python3"
  },
  "language_info": {
   "codemirror_mode": {
    "name": "ipython",
    "version": 3
   },
   "file_extension": ".py",
   "mimetype": "text/x-python",
   "name": "python",
   "nbconvert_exporter": "python",
   "pygments_lexer": "ipython3",
   "version": "3.12.5"
  }
 },
 "nbformat": 4,
 "nbformat_minor": 5
}
