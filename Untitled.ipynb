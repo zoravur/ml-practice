{
 "cells": [
  {
   "cell_type": "code",
   "execution_count": 3,
   "id": "b70a4836-ca5a-48df-a311-d6b7c11dc6b0",
   "metadata": {},
   "outputs": [
    {
     "data": {
      "text/plain": [
       "Array((), dtype=key<fry>) overlaying:\n",
       "[0 1]"
      ]
     },
     "execution_count": 3,
     "metadata": {},
     "output_type": "execute_result"
    }
   ],
   "source": [
    "import jax\n",
    "jax.random.key(1)"
   ]
  },
  {
   "cell_type": "code",
   "execution_count": null,
   "id": "034da7d8-49b6-49c5-a668-263245a70d7e",
   "metadata": {},
   "outputs": [],
   "source": []
  }
 ],
 "metadata": {
  "kernelspec": {
   "display_name": "Python 3 (ipykernel)",
   "language": "python",
   "name": "python3"
  },
  "language_info": {
   "codemirror_mode": {
    "name": "ipython",
    "version": 3
   },
   "file_extension": ".py",
   "mimetype": "text/x-python",
   "name": "python",
   "nbconvert_exporter": "python",
   "pygments_lexer": "ipython3",
   "version": "3.12.5"
  }
 },
 "nbformat": 4,
 "nbformat_minor": 5
}
